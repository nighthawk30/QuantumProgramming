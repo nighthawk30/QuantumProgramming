{
 "cells": [
  {
   "cell_type": "code",
   "execution_count": 1,
   "id": "b5bc697c",
   "metadata": {},
   "outputs": [],
   "source": [
    "#Homework 2\n",
    "#Nathan Taylor\n",
    "#01/25/22"
   ]
  },
  {
   "cell_type": "code",
   "execution_count": 2,
   "id": "52da6641",
   "metadata": {},
   "outputs": [],
   "source": [
    "import cirq\n",
    "import random\n",
    "import matplotlib.pyplot as plt\n",
    "import numpy as np\n",
    "import random as rand\n",
    "from cirq.contrib.svg import SVGCircuit, circuit_to_svg"
   ]
  },
  {
   "cell_type": "code",
   "execution_count": 3,
   "id": "3cb641be",
   "metadata": {},
   "outputs": [],
   "source": [
    "#Problem 1 - Functions\n",
    "def rotate3z(i, j, k, qbits, anc, theta):\n",
    "    ops = []\n",
    "    \n",
    "    ops.append(cirq.CNOT(qbits[i],anc))\n",
    "    ops.append(cirq.CNOT(qbits[j],anc))\n",
    "    ops.append(cirq.CNOT(qbits[k],anc))\n",
    "    \n",
    "    ops.append(cirq.rz(2*theta)(anc))\n",
    "    \n",
    "    ops.append(cirq.CNOT(qbits[k],anc))\n",
    "    ops.append(cirq.CNOT(qbits[j],anc))\n",
    "    ops.append(cirq.CNOT(qbits[i],anc))\n",
    "    \n",
    "    return ops\n",
    "\n",
    "def rotate3x(i, j, k, qbits, anc, theta):\n",
    "    ops = []\n",
    "    hadamard = cirq.Moment(cirq.H(qbits[i]),cirq.H(qbits[j]),cirq.H(qbits[k]))\n",
    "    ops.append(hadamard)\n",
    "    ops.append(rotate3z(i, j, k, qbits, anc, theta))\n",
    "    ops.append(hadamard)\n",
    "    \n",
    "    return ops"
   ]
  },
  {
   "cell_type": "code",
   "execution_count": 4,
   "id": "eeec4e04",
   "metadata": {},
   "outputs": [
    {
     "name": "stderr",
     "output_type": "stream",
     "text": [
      "findfont: Font family ['Arial'] not found. Falling back to DejaVu Sans.\n"
     ]
    },
    {
     "data": {
      "image/svg+xml": [
       "<svg xmlns=\"http://www.w3.org/2000/svg\" width=\"731.5889843750001\" height=\"200.0\"><line x1=\"30.0\" x2=\"701.5889843750001\" y1=\"25.0\" y2=\"25.0\" stroke=\"#1967d2\" stroke-width=\"1\" /><line x1=\"30.0\" x2=\"701.5889843750001\" y1=\"75.0\" y2=\"75.0\" stroke=\"#1967d2\" stroke-width=\"1\" /><line x1=\"30.0\" x2=\"701.5889843750001\" y1=\"125.0\" y2=\"125.0\" stroke=\"#1967d2\" stroke-width=\"1\" /><line x1=\"30.0\" x2=\"701.5889843750001\" y1=\"175.0\" y2=\"175.0\" stroke=\"#1967d2\" stroke-width=\"1\" /><line x1=\"150.0\" x2=\"150.0\" y1=\"25.0\" y2=\"175.0\" stroke=\"black\" stroke-width=\"3\" /><line x1=\"210.0\" x2=\"210.0\" y1=\"75.0\" y2=\"175.0\" stroke=\"black\" stroke-width=\"3\" /><line x1=\"270.0\" x2=\"270.0\" y1=\"125.0\" y2=\"175.0\" stroke=\"black\" stroke-width=\"3\" /><line x1=\"416.1167578125\" x2=\"416.1167578125\" y1=\"125.0\" y2=\"175.0\" stroke=\"black\" stroke-width=\"3\" /><line x1=\"476.1167578125\" x2=\"476.1167578125\" y1=\"75.0\" y2=\"175.0\" stroke=\"black\" stroke-width=\"3\" /><line x1=\"536.1167578125\" x2=\"536.1167578125\" y1=\"25.0\" y2=\"175.0\" stroke=\"black\" stroke-width=\"3\" /><line x1=\"658.8528710937501\" x2=\"658.8528710937501\" y1=\"25.0\" y2=\"125.0\" stroke=\"black\" stroke-width=\"3\" /><rect x=\"10.0\" y=\"5.0\" width=\"40\" height=\"40\" stroke=\"black\" fill=\"white\" stroke-width=\"0\" /><text x=\"30.0\" y=\"25.0\" dominant-baseline=\"middle\" text-anchor=\"middle\" font-size=\"14px\" font-family=\"Arial\">0: </text><rect x=\"10.0\" y=\"55.0\" width=\"40\" height=\"40\" stroke=\"black\" fill=\"white\" stroke-width=\"0\" /><text x=\"30.0\" y=\"75.0\" dominant-baseline=\"middle\" text-anchor=\"middle\" font-size=\"14px\" font-family=\"Arial\">1: </text><rect x=\"10.0\" y=\"105.0\" width=\"40\" height=\"40\" stroke=\"black\" fill=\"white\" stroke-width=\"0\" /><text x=\"30.0\" y=\"125.0\" dominant-baseline=\"middle\" text-anchor=\"middle\" font-size=\"14px\" font-family=\"Arial\">2: </text><rect x=\"10.0\" y=\"155.0\" width=\"40\" height=\"40\" stroke=\"black\" fill=\"white\" stroke-width=\"0\" /><text x=\"30.0\" y=\"175.0\" dominant-baseline=\"middle\" text-anchor=\"middle\" font-size=\"14px\" font-family=\"Arial\">A: </text><rect x=\"70.0\" y=\"5.0\" width=\"40\" height=\"40\" stroke=\"black\" fill=\"white\" stroke-width=\"1\" /><text x=\"90.0\" y=\"25.0\" dominant-baseline=\"middle\" text-anchor=\"middle\" font-size=\"18px\" font-family=\"Arial\">H</text><rect x=\"70.0\" y=\"55.0\" width=\"40\" height=\"40\" stroke=\"black\" fill=\"white\" stroke-width=\"1\" /><text x=\"90.0\" y=\"75.0\" dominant-baseline=\"middle\" text-anchor=\"middle\" font-size=\"18px\" font-family=\"Arial\">H</text><rect x=\"70.0\" y=\"105.0\" width=\"40\" height=\"40\" stroke=\"black\" fill=\"white\" stroke-width=\"1\" /><text x=\"90.0\" y=\"125.0\" dominant-baseline=\"middle\" text-anchor=\"middle\" font-size=\"18px\" font-family=\"Arial\">H</text><circle cx=\"150.0\" cy=\"25.0\" r=\"10.0\" /><rect x=\"130.0\" y=\"155.0\" width=\"40\" height=\"40\" stroke=\"black\" fill=\"white\" stroke-width=\"1\" /><text x=\"150.0\" y=\"175.0\" dominant-baseline=\"middle\" text-anchor=\"middle\" font-size=\"18px\" font-family=\"Arial\">X</text><circle cx=\"210.0\" cy=\"75.0\" r=\"10.0\" /><rect x=\"190.0\" y=\"155.0\" width=\"40\" height=\"40\" stroke=\"black\" fill=\"white\" stroke-width=\"1\" /><text x=\"210.0\" y=\"175.0\" dominant-baseline=\"middle\" text-anchor=\"middle\" font-size=\"18px\" font-family=\"Arial\">X</text><circle cx=\"270.0\" cy=\"125.0\" r=\"10.0\" /><rect x=\"250.0\" y=\"155.0\" width=\"40\" height=\"40\" stroke=\"black\" fill=\"white\" stroke-width=\"1\" /><text x=\"270.0\" y=\"175.0\" dominant-baseline=\"middle\" text-anchor=\"middle\" font-size=\"18px\" font-family=\"Arial\">X</text><rect x=\"310.0\" y=\"155.0\" width=\"66.1167578125\" height=\"40\" stroke=\"black\" fill=\"white\" stroke-width=\"1\" /><text x=\"343.05837890625\" y=\"175.0\" dominant-baseline=\"middle\" text-anchor=\"middle\" font-size=\"14px\" font-family=\"Arial\">Rz(0.5π)</text><circle cx=\"416.1167578125\" cy=\"125.0\" r=\"10.0\" /><rect x=\"396.1167578125\" y=\"155.0\" width=\"40\" height=\"40\" stroke=\"black\" fill=\"white\" stroke-width=\"1\" /><text x=\"416.1167578125\" y=\"175.0\" dominant-baseline=\"middle\" text-anchor=\"middle\" font-size=\"18px\" font-family=\"Arial\">X</text><circle cx=\"476.1167578125\" cy=\"75.0\" r=\"10.0\" /><rect x=\"456.1167578125\" y=\"155.0\" width=\"40\" height=\"40\" stroke=\"black\" fill=\"white\" stroke-width=\"1\" /><text x=\"476.1167578125\" y=\"175.0\" dominant-baseline=\"middle\" text-anchor=\"middle\" font-size=\"18px\" font-family=\"Arial\">X</text><circle cx=\"536.1167578125\" cy=\"25.0\" r=\"10.0\" /><rect x=\"516.1167578125\" y=\"155.0\" width=\"40\" height=\"40\" stroke=\"black\" fill=\"white\" stroke-width=\"1\" /><text x=\"536.1167578125\" y=\"175.0\" dominant-baseline=\"middle\" text-anchor=\"middle\" font-size=\"18px\" font-family=\"Arial\">X</text><rect x=\"576.1167578125\" y=\"5.0\" width=\"40\" height=\"40\" stroke=\"black\" fill=\"white\" stroke-width=\"1\" /><text x=\"596.1167578125\" y=\"25.0\" dominant-baseline=\"middle\" text-anchor=\"middle\" font-size=\"18px\" font-family=\"Arial\">H</text><rect x=\"576.1167578125\" y=\"55.0\" width=\"40\" height=\"40\" stroke=\"black\" fill=\"white\" stroke-width=\"1\" /><text x=\"596.1167578125\" y=\"75.0\" dominant-baseline=\"middle\" text-anchor=\"middle\" font-size=\"18px\" font-family=\"Arial\">H</text><rect x=\"576.1167578125\" y=\"105.0\" width=\"40\" height=\"40\" stroke=\"black\" fill=\"white\" stroke-width=\"1\" /><text x=\"596.1167578125\" y=\"125.0\" dominant-baseline=\"middle\" text-anchor=\"middle\" font-size=\"18px\" font-family=\"Arial\">H</text><rect x=\"636.1167578125\" y=\"5.0\" width=\"45.4722265625\" height=\"40\" stroke=\"black\" fill=\"white\" stroke-width=\"1\" /><text x=\"658.8528710937501\" y=\"25.0\" dominant-baseline=\"middle\" text-anchor=\"middle\" font-size=\"14px\" font-family=\"Arial\">M('z')</text><rect x=\"636.1167578125\" y=\"55.0\" width=\"45.4722265625\" height=\"40\" stroke=\"black\" fill=\"white\" stroke-width=\"1\" /><text x=\"658.8528710937501\" y=\"75.0\" dominant-baseline=\"middle\" text-anchor=\"middle\" font-size=\"18px\" font-family=\"Arial\">M</text><rect x=\"636.1167578125\" y=\"105.0\" width=\"45.4722265625\" height=\"40\" stroke=\"black\" fill=\"white\" stroke-width=\"1\" /><text x=\"658.8528710937501\" y=\"125.0\" dominant-baseline=\"middle\" text-anchor=\"middle\" font-size=\"18px\" font-family=\"Arial\">M</text></svg>"
      ],
      "text/plain": [
       "<cirq.contrib.svg.svg.SVGCircuit at 0x7f0bbd17cbe0>"
      ]
     },
     "execution_count": 4,
     "metadata": {},
     "output_type": "execute_result"
    }
   ],
   "source": [
    "qubits = cirq.LineQubit.range(3)\n",
    "ancilla = cirq.NamedQubit(\"A\")\n",
    "circuit = cirq.Circuit(rotate3x(0,1,2,qubits, ancilla, np.pi/4))\n",
    "circuit.append(cirq.measure(*qubits,key='z'))\n",
    "SVGCircuit(cirq.Circuit(circuit))"
   ]
  },
  {
   "cell_type": "code",
   "execution_count": 5,
   "id": "36cc6a41",
   "metadata": {},
   "outputs": [
    {
     "data": {
      "text/plain": [
       "[<matplotlib.lines.Line2D at 0x7f0bbcf4a2e0>]"
      ]
     },
     "execution_count": 5,
     "metadata": {},
     "output_type": "execute_result"
    },
    {
     "data": {
      "image/png": "[encoded data removed]",
      "text/plain": [
       "<Figure size 432x288 with 1 Axes>"
      ]
     },
     "metadata": {
      "needs_background": "light"
     },
     "output_type": "display_data"
    }
   ],
   "source": [
    "#Simulate - takes a while\n",
    "sim = cirq.Simulator()\n",
    "\n",
    "n=40#steps - fineness\n",
    "theta = []\n",
    "prob7 = []\n",
    "for x in range(n):\n",
    "    t = x*2*np.pi/n#length\n",
    "    qubits = cirq.LineQubit.range(3)\n",
    "    ancilla = cirq.NamedQubit(\"A\")\n",
    "    circuit = cirq.Circuit(rotate3x(0,1,2,qubits, ancilla, t))\n",
    "    circuit.append(cirq.measure(*qubits,key='z'))\n",
    "    \n",
    "    count = 0\n",
    "    runs = 200#accuracy\n",
    "    for y in range(runs):\n",
    "        out_state = sim.run(circuit)#Run it once\n",
    "        a = \"\".join(str(out_state).split(\", \"))#Parse Output\n",
    "        b=a[2:len(a)]\n",
    "        if b==\"111\":\n",
    "            count += 1\n",
    "    prob7.append(count/runs)\n",
    "    theta.append(t)\n",
    "    \n",
    "plt.plot(theta, prob7)"
   ]
  },
  {
   "cell_type": "code",
   "execution_count": 6,
   "id": "8e890b1a",
   "metadata": {},
   "outputs": [],
   "source": [
    "#Problem 2 Functions\n",
    "\n",
    "def makeHp():\n",
    "    #Make Hp\n",
    "    Hp = []\n",
    "    V = []\n",
    "    \n",
    "    #all qubits must be included, each qubit can only appear once per triplet\n",
    "    check6 = [0,0,0,0,0,0]#check for all qubits present\n",
    "    \n",
    "    for x in range(12):\n",
    "        unique = [0,1,2,3,4,5]\n",
    "        triple = [0,0,0,0]#qubit indices and the weight at the end\n",
    "        for y in range(3):\n",
    "            triple[y]= unique[rand.randint(0,len(unique)-1)]\n",
    "            triple[3] = int(2*(rand.randint(0,1)-1/2))#-1 or 1\n",
    "            check6[triple[y]]+=1\n",
    "            unique.remove(triple[y])\n",
    "        Hp.append(triple)\n",
    "    \n",
    "    #recursive until all qubits are present\n",
    "    for i in check6:\n",
    "        if i == 0:\n",
    "            Hp = makeHp()\n",
    "            break;\n",
    "    Hp = np.array(Hp)\n",
    "    return Hp\n",
    "\n",
    "def getEnergy(Hp,state):\n",
    "    energy = 0\n",
    "    for triple in Hp:\n",
    "        Vsign = 1\n",
    "        for q in range(3):\n",
    "            if not state[triple[q]]:#if the qubit does not appear in the state, it gets a -1\n",
    "                Vsign *= -1\n",
    "        energy += triple[3]*Vsign#+- the weight depending on the number of qubits in a state\n",
    "    return energy\n",
    "\n",
    "#getEnergy(Hp, [0,1,0,1,1,0])        \n",
    "\n",
    "def solveHp(Hp):\n",
    "    #Find Ground State and Corresponding Energy\n",
    "    stateList = []\n",
    "    for a in range(2):#iterate through all possible states for 6 qubits\n",
    "        for b in range(2):\n",
    "            for c in range(2):\n",
    "                for d in range(2):\n",
    "                    for e in range(2):\n",
    "                        for f in range(2):\n",
    "                            stateList.append([a,b,c,d,e,f])\n",
    "    \n",
    "    g_states = []\n",
    "    g_energy = 100#something not possible\n",
    "    for s in stateList:\n",
    "        s_energy = getEnergy(Hp, s)\n",
    "        \n",
    "        if s_energy < g_energy:\n",
    "            g_energy = s_energy\n",
    "            g_states = [s]\n",
    "        elif s_energy == g_energy:\n",
    "            g_states.append(s)\n",
    "            \n",
    "    return g_states, g_energy\n",
    "\n",
    "#Convert state key into proper format (binary list)\n",
    "def key_to_state(key, qubits):\n",
    "    binaryformat = \"{0:0\" + str(len(qubits)) + \"b}\"\n",
    "    bitstate = binaryformat.format(int(key))#Convert to binary to get the state as a string\n",
    "    state = [0]*len(qubits)\n",
    "    for i in range(len(bitstate)):\n",
    "        if bitstate[i] == '1':\n",
    "            state[i] = 1\n",
    "    return state\n",
    "    \n",
    "\n",
    "#Finds the expectation value of a measurement in the z basis\n",
    "def expectHp(oplist, qubits, H_p, gs_energy):\n",
    "    sim = cirq.Simulator()\n",
    "    circuit = cirq.Circuit(oplist)\n",
    "    \n",
    "    counts = 1000\n",
    "    samples = sim.run(circuit, repetitions=counts)\n",
    "    data = samples.histogram(key='z')#Returns the state and the number of times it was hit\n",
    "    \n",
    "    energy_avg = 0 #The average energy of the resulting state for the circuit\n",
    "    ground_avg = 0 #Average times a ground state was hit\n",
    "    \n",
    "    #Dictionary: key = qubit state measurement, value = number of results\n",
    "    for key, value in data.items():\n",
    "        true_state = key_to_state(int(key), qubits)#Get the state it hit\n",
    "        energy3Z = getEnergy(H_p, true_state)#The energy of the state\n",
    "        energy_avg += int(value) * energy3Z\n",
    "        if energy3Z == gs_energy:#The state is a ground state\n",
    "            ground_avg += int(value)\n",
    "        \n",
    "    energy_avg /= counts#the average energy\n",
    "    ground_avg /= counts#number of times the ground state was recovered\n",
    "    return [energy_avg, ground_avg]\n",
    "\n",
    "def makeQAOA_1layer(qubits, anc, H_p, alpha, beta):\n",
    "    c_ops = []\n",
    "    for q in qubits:\n",
    "        c_ops.append(cirq.H(q))\n",
    "\n",
    "    for triple in H_p:\n",
    "        c_ops.append(rotate3z(triple[0],triple[1],triple[2], qubits, anc, alpha))\n",
    "    for q in qubits:\n",
    "        c_ops.append(cirq.rx(2*beta)(q))\n",
    "        \n",
    "    #Measure\n",
    "    c_ops.append(cirq.measure(*qubits,key='z'))\n",
    "    return c_ops\n",
    "\n",
    "def makeQAOA_2layer(qubits, anc, H_p, angle_list):\n",
    "    c_ops = []\n",
    "    #Spp\n",
    "    for q in qubits:\n",
    "        c_ops.append(cirq.H(q))\n",
    "        \n",
    "    for i in range(int(len(angle_list)/2)):#alpha and beta angles are meshed into one so we need to separate them\n",
    "        for triple in H_p:\n",
    "            c_ops.append(rotate3z(triple[0],triple[1],triple[2], qubits, anc, angle_list[i*2]))\n",
    "        for q in qubits:\n",
    "            c_ops.append(cirq.rx(2*angle_list[i*2+1])(q))\n",
    "\n",
    "    #Measure\n",
    "    c_ops.append(cirq.measure(*qubits,key='z'))\n",
    "    return c_ops\n",
    "\n",
    "def makeQAOA_1layer_noise(qubits, anc, H_p, alpha, beta, err_num):\n",
    "    c_ops = []\n",
    "    for q in qubits:\n",
    "        c_ops.append(cirq.H(q))\n",
    "\n",
    "    for triple in H_p:\n",
    "        c_ops.append(rotate3z(triple[0],triple[1],triple[2], qubits, anc, alpha))\n",
    "            \n",
    "    for q in qubits:\n",
    "        c_ops.append(cirq.rx(2*beta)(q))\n",
    "        \n",
    "    #choose random qubit\n",
    "    for i in range(err_num):\n",
    "        single = []\n",
    "        err_layer = rand.randint(0,len(c_ops)-1)#choose layer\n",
    "        err_qubit = rand.randint(0, len(qubits)-1)#choose qubit\n",
    "        err_gate = rand.randint(0,2)\n",
    "        gates = [cirq.X,cirq.Y,cirq.Z]\n",
    "        c_ops.insert(err_layer, gates[err_gate](qubits[err_qubit]))\n",
    "        c_ops.append(cirq.measure(*qubits,key='z'))\n",
    "    return c_ops"
   ]
  },
  {
   "cell_type": "code",
   "execution_count": 14,
   "id": "46df1221",
   "metadata": {},
   "outputs": [
    {
     "name": "stdout",
     "output_type": "stream",
     "text": [
      "Ground States:  [[1, 1, 1, 1, 0, 0]]\n",
      "Ground Energy:  -6\n"
     ]
    }
   ],
   "source": [
    "#2a)\n",
    "H_p = makeHp()#This defines H_p for the rest of the hw, rerun this cell to change it\n",
    "ground_states, ground_energy = solveHp(H_p)\n",
    "print(\"Ground States: \", ground_states)\n",
    "print(\"Ground Energy: \", ground_energy)"
   ]
  },
  {
   "cell_type": "code",
   "execution_count": 15,
   "id": "19f6ea96",
   "metadata": {},
   "outputs": [
    {
     "data": {
      "image/svg+xml": [
       "<svg xmlns=\"http://www.w3.org/2000/svg\" width=\"6138.720351562496\" height=\"390.0\"><line x1=\"30.0\" x2=\"6108.720351562496\" y1=\"45.0\" y2=\"45.0\" stroke=\"#1967d2\" stroke-width=\"1\" /><line x1=\"30.0\" x2=\"6108.720351562496\" y1=\"95.0\" y2=\"95.0\" stroke=\"#1967d2\" stroke-width=\"1\" /><line x1=\"30.0\" x2=\"6108.720351562496\" y1=\"145.0\" y2=\"145.0\" stroke=\"#1967d2\" stroke-width=\"1\" /><line x1=\"30.0\" x2=\"6108.720351562496\" y1=\"195.0\" y2=\"195.0\" stroke=\"#1967d2\" stroke-width=\"1\" /><line x1=\"30.0\" x2=\"6108.720351562496\" y1=\"245.0\" y2=\"245.0\" stroke=\"#1967d2\" stroke-width=\"1\" /><line x1=\"30.0\" x2=\"6108.720351562496\" y1=\"295.0\" y2=\"295.0\" stroke=\"#1967d2\" stroke-width=\"1\" /><line x1=\"30.0\" x2=\"6108.720351562496\" y1=\"345.0\" y2=\"345.0\" stroke=\"#1967d2\" stroke-width=\"1\" /><line x1=\"5245.267851562498\" x2=\"5376.280117187498\" y1=\"5.0\" y2=\"5.0\" stroke=\"black\" stroke-width=\"1\" /><line x1=\"5245.267851562498\" x2=\"5376.280117187498\" y1=\"385.0\" y2=\"385.0\" stroke=\"black\" stroke-width=\"1\" /><line x1=\"150.0\" x2=\"150.0\" y1=\"145.0\" y2=\"345.0\" stroke=\"black\" stroke-width=\"3\" /><line x1=\"210.0\" x2=\"210.0\" y1=\"45.0\" y2=\"345.0\" stroke=\"black\" stroke-width=\"3\" /><line x1=\"270.0\" x2=\"270.0\" y1=\"95.0\" y2=\"345.0\" stroke=\"black\" stroke-width=\"3\" /><line x1=\"433.9312109375\" x2=\"433.9312109375\" y1=\"95.0\" y2=\"345.0\" stroke=\"black\" stroke-width=\"3\" /><line x1=\"493.9312109375\" x2=\"493.9312109375\" y1=\"45.0\" y2=\"345.0\" stroke=\"black\" stroke-width=\"3\" /><line x1=\"553.9312109375\" x2=\"553.9312109375\" y1=\"145.0\" y2=\"345.0\" stroke=\"black\" stroke-width=\"3\" /><line x1=\"613.9312109375\" x2=\"613.9312109375\" y1=\"95.0\" y2=\"345.0\" stroke=\"black\" stroke-width=\"3\" /><line x1=\"673.9312109375\" x2=\"673.9312109375\" y1=\"195.0\" y2=\"345.0\" stroke=\"black\" stroke-width=\"3\" /><line x1=\"733.9312109375\" x2=\"733.9312109375\" y1=\"145.0\" y2=\"345.0\" stroke=\"black\" stroke-width=\"3\" /><line x1=\"897.8624218750001\" x2=\"897.8624218750001\" y1=\"145.0\" y2=\"345.0\" stroke=\"black\" stroke-width=\"3\" /><line x1=\"957.8624218750001\" x2=\"957.8624218750001\" y1=\"195.0\" y2=\"345.0\" stroke=\"black\" stroke-width=\"3\" /><line x1=\"1017.8624218750001\" x2=\"1017.8624218750001\" y1=\"95.0\" y2=\"345.0\" stroke=\"black\" stroke-width=\"3\" /><line x1=\"1077.862421875\" x2=\"1077.862421875\" y1=\"45.0\" y2=\"345.0\" stroke=\"black\" stroke-width=\"3\" /><line x1=\"1137.862421875\" x2=\"1137.862421875\" y1=\"95.0\" y2=\"345.0\" stroke=\"black\" stroke-width=\"3\" /><line x1=\"1197.862421875\" x2=\"1197.862421875\" y1=\"245.0\" y2=\"345.0\" stroke=\"black\" stroke-width=\"3\" /><line x1=\"1361.7936328125002\" x2=\"1361.7936328125002\" y1=\"245.0\" y2=\"345.0\" stroke=\"black\" stroke-width=\"3\" /><line x1=\"1421.7936328125002\" x2=\"1421.7936328125002\" y1=\"95.0\" y2=\"345.0\" stroke=\"black\" stroke-width=\"3\" /><line x1=\"1481.7936328125002\" x2=\"1481.7936328125002\" y1=\"45.0\" y2=\"345.0\" stroke=\"black\" stroke-width=\"3\" /><line x1=\"1541.7936328125002\" x2=\"1541.7936328125002\" y1=\"245.0\" y2=\"345.0\" stroke=\"black\" stroke-width=\"3\" /><line x1=\"1601.7936328125002\" x2=\"1601.7936328125002\" y1=\"295.0\" y2=\"345.0\" stroke=\"black\" stroke-width=\"3\" /><line x1=\"1661.7936328125002\" x2=\"1661.7936328125002\" y1=\"195.0\" y2=\"345.0\" stroke=\"black\" stroke-width=\"3\" /><line x1=\"1825.7248437500002\" x2=\"1825.7248437500002\" y1=\"195.0\" y2=\"345.0\" stroke=\"black\" stroke-width=\"3\" /><line x1=\"1885.7248437500002\" x2=\"1885.7248437500002\" y1=\"295.0\" y2=\"345.0\" stroke=\"black\" stroke-width=\"3\" /><line x1=\"1945.7248437500002\" x2=\"1945.7248437500002\" y1=\"245.0\" y2=\"345.0\" stroke=\"black\" stroke-width=\"3\" /><line x1=\"2005.7248437500002\" x2=\"2005.7248437500002\" y1=\"245.0\" y2=\"345.0\" stroke=\"black\" stroke-width=\"3\" /><line x1=\"2065.72484375\" x2=\"2065.72484375\" y1=\"295.0\" y2=\"345.0\" stroke=\"black\" stroke-width=\"3\" /><line x1=\"2125.72484375\" x2=\"2125.72484375\" y1=\"95.0\" y2=\"345.0\" stroke=\"black\" stroke-width=\"3\" /><line x1=\"2289.6560546875003\" x2=\"2289.6560546875003\" y1=\"95.0\" y2=\"345.0\" stroke=\"black\" stroke-width=\"3\" /><line x1=\"2349.6560546875003\" x2=\"2349.6560546875003\" y1=\"295.0\" y2=\"345.0\" stroke=\"black\" stroke-width=\"3\" /><line x1=\"2409.6560546875003\" x2=\"2409.6560546875003\" y1=\"245.0\" y2=\"345.0\" stroke=\"black\" stroke-width=\"3\" /><line x1=\"2469.6560546875003\" x2=\"2469.6560546875003\" y1=\"145.0\" y2=\"345.0\" stroke=\"black\" stroke-width=\"3\" /><line x1=\"2529.6560546875003\" x2=\"2529.6560546875003\" y1=\"195.0\" y2=\"345.0\" stroke=\"black\" stroke-width=\"3\" /><line x1=\"2589.6560546875003\" x2=\"2589.6560546875003\" y1=\"245.0\" y2=\"345.0\" stroke=\"black\" stroke-width=\"3\" /><line x1=\"2753.5872656250003\" x2=\"2753.5872656250003\" y1=\"245.0\" y2=\"345.0\" stroke=\"black\" stroke-width=\"3\" /><line x1=\"2813.5872656250003\" x2=\"2813.5872656250003\" y1=\"195.0\" y2=\"345.0\" stroke=\"black\" stroke-width=\"3\" /><line x1=\"2873.5872656250003\" x2=\"2873.5872656250003\" y1=\"145.0\" y2=\"345.0\" stroke=\"black\" stroke-width=\"3\" /><line x1=\"2933.5872656250003\" x2=\"2933.5872656250003\" y1=\"95.0\" y2=\"345.0\" stroke=\"black\" stroke-width=\"3\" /><line x1=\"2993.5872656250003\" x2=\"2993.5872656250003\" y1=\"295.0\" y2=\"345.0\" stroke=\"black\" stroke-width=\"3\" /><line x1=\"3053.5872656250003\" x2=\"3053.5872656250003\" y1=\"145.0\" y2=\"345.0\" stroke=\"black\" stroke-width=\"3\" /><line x1=\"3217.5184765625004\" x2=\"3217.5184765625004\" y1=\"145.0\" y2=\"345.0\" stroke=\"black\" stroke-width=\"3\" /><line x1=\"3277.5184765625004\" x2=\"3277.5184765625004\" y1=\"295.0\" y2=\"345.0\" stroke=\"black\" stroke-width=\"3\" /><line x1=\"3337.5184765625004\" x2=\"3337.5184765625004\" y1=\"95.0\" y2=\"345.0\" stroke=\"black\" stroke-width=\"3\" /><line x1=\"3397.5184765625004\" x2=\"3397.5184765625004\" y1=\"45.0\" y2=\"345.0\" stroke=\"black\" stroke-width=\"3\" /><line x1=\"3457.5184765625004\" x2=\"3457.5184765625004\" y1=\"95.0\" y2=\"345.0\" stroke=\"black\" stroke-width=\"3\" /><line x1=\"3517.5184765625004\" x2=\"3517.5184765625004\" y1=\"195.0\" y2=\"345.0\" stroke=\"black\" stroke-width=\"3\" /><line x1=\"3681.4496875000004\" x2=\"3681.4496875000004\" y1=\"195.0\" y2=\"345.0\" stroke=\"black\" stroke-width=\"3\" /><line x1=\"3741.4496875000004\" x2=\"3741.4496875000004\" y1=\"95.0\" y2=\"345.0\" stroke=\"black\" stroke-width=\"3\" /><line x1=\"3801.4496875000004\" x2=\"3801.4496875000004\" y1=\"45.0\" y2=\"345.0\" stroke=\"black\" stroke-width=\"3\" /><line x1=\"3861.4496875000004\" x2=\"3861.4496875000004\" y1=\"195.0\" y2=\"345.0\" stroke=\"black\" stroke-width=\"3\" /><line x1=\"3921.4496875000004\" x2=\"3921.4496875000004\" y1=\"145.0\" y2=\"345.0\" stroke=\"black\" stroke-width=\"3\" /><line x1=\"3981.4496875000004\" x2=\"3981.4496875000004\" y1=\"245.0\" y2=\"345.0\" stroke=\"black\" stroke-width=\"3\" /><line x1=\"4145.3808984375\" x2=\"4145.3808984375\" y1=\"245.0\" y2=\"345.0\" stroke=\"black\" stroke-width=\"3\" /><line x1=\"4205.3808984375\" x2=\"4205.3808984375\" y1=\"145.0\" y2=\"345.0\" stroke=\"black\" stroke-width=\"3\" /><line x1=\"4285.88703125\" x2=\"4285.88703125\" y1=\"195.0\" y2=\"345.0\" stroke=\"black\" stroke-width=\"3\" /><line x1=\"4366.3931640625\" x2=\"4366.3931640625\" y1=\"245.0\" y2=\"345.0\" stroke=\"black\" stroke-width=\"3\" /><line x1=\"4426.3931640625\" x2=\"4426.3931640625\" y1=\"95.0\" y2=\"345.0\" stroke=\"black\" stroke-width=\"3\" /><line x1=\"4486.3931640625\" x2=\"4486.3931640625\" y1=\"45.0\" y2=\"345.0\" stroke=\"black\" stroke-width=\"3\" /><line x1=\"4650.324374999999\" x2=\"4650.324374999999\" y1=\"45.0\" y2=\"345.0\" stroke=\"black\" stroke-width=\"3\" /><line x1=\"4710.324374999999\" x2=\"4710.324374999999\" y1=\"95.0\" y2=\"345.0\" stroke=\"black\" stroke-width=\"3\" /><line x1=\"4790.8305078124995\" x2=\"4790.8305078124995\" y1=\"245.0\" y2=\"345.0\" stroke=\"black\" stroke-width=\"3\" /><line x1=\"4871.336640624999\" x2=\"4871.336640624999\" y1=\"245.0\" y2=\"345.0\" stroke=\"black\" stroke-width=\"3\" /><line x1=\"4931.336640624999\" x2=\"4931.336640624999\" y1=\"295.0\" y2=\"345.0\" stroke=\"black\" stroke-width=\"3\" /><line x1=\"4991.336640624999\" x2=\"4991.336640624999\" y1=\"195.0\" y2=\"345.0\" stroke=\"black\" stroke-width=\"3\" /><line x1=\"5155.267851562498\" x2=\"5155.267851562498\" y1=\"195.0\" y2=\"345.0\" stroke=\"black\" stroke-width=\"3\" /><line x1=\"5215.267851562498\" x2=\"5215.267851562498\" y1=\"295.0\" y2=\"345.0\" stroke=\"black\" stroke-width=\"3\" /><line x1=\"5265.267851562498\" x2=\"5265.267851562498\" y1=\"245.0\" y2=\"345.0\" stroke=\"black\" stroke-width=\"3\" /><line x1=\"5416.280117187498\" x2=\"5416.280117187498\" y1=\"245.0\" y2=\"345.0\" stroke=\"black\" stroke-width=\"3\" /><line x1=\"5476.280117187498\" x2=\"5476.280117187498\" y1=\"195.0\" y2=\"345.0\" stroke=\"black\" stroke-width=\"3\" /><line x1=\"5536.280117187498\" x2=\"5536.280117187498\" y1=\"45.0\" y2=\"345.0\" stroke=\"black\" stroke-width=\"3\" /><line x1=\"5700.211328124998\" x2=\"5700.211328124998\" y1=\"45.0\" y2=\"345.0\" stroke=\"black\" stroke-width=\"3\" /><line x1=\"5780.717460937498\" x2=\"5780.717460937498\" y1=\"195.0\" y2=\"345.0\" stroke=\"black\" stroke-width=\"3\" /><line x1=\"5881.7297265624975\" x2=\"5881.7297265624975\" y1=\"245.0\" y2=\"345.0\" stroke=\"black\" stroke-width=\"3\" /><line x1=\"6065.984238281247\" x2=\"6065.984238281247\" y1=\"45.0\" y2=\"295.0\" stroke=\"black\" stroke-width=\"3\" /><line x1=\"5245.267851562498\" x2=\"5245.267851562498\" y1=\"5.0\" y2=\"15.0\" stroke=\"black\" stroke-width=\"3\" /><line x1=\"5376.280117187498\" x2=\"5376.280117187498\" y1=\"5.0\" y2=\"15.0\" stroke=\"black\" stroke-width=\"3\" /><line x1=\"5245.267851562498\" x2=\"5245.267851562498\" y1=\"375.0\" y2=\"385.0\" stroke=\"black\" stroke-width=\"3\" /><line x1=\"5376.280117187498\" x2=\"5376.280117187498\" y1=\"375.0\" y2=\"385.0\" stroke=\"black\" stroke-width=\"3\" /><rect x=\"10.0\" y=\"25.0\" width=\"40\" height=\"40\" stroke=\"black\" fill=\"white\" stroke-width=\"0\" /><text x=\"30.0\" y=\"45.0\" dominant-baseline=\"middle\" text-anchor=\"middle\" font-size=\"14px\" font-family=\"Arial\">0: </text><rect x=\"10.0\" y=\"75.0\" width=\"40\" height=\"40\" stroke=\"black\" fill=\"white\" stroke-width=\"0\" /><text x=\"30.0\" y=\"95.0\" dominant-baseline=\"middle\" text-anchor=\"middle\" font-size=\"14px\" font-family=\"Arial\">1: </text><rect x=\"10.0\" y=\"125.0\" width=\"40\" height=\"40\" stroke=\"black\" fill=\"white\" stroke-width=\"0\" /><text x=\"30.0\" y=\"145.0\" dominant-baseline=\"middle\" text-anchor=\"middle\" font-size=\"14px\" font-family=\"Arial\">2: </text><rect x=\"10.0\" y=\"175.0\" width=\"40\" height=\"40\" stroke=\"black\" fill=\"white\" stroke-width=\"0\" /><text x=\"30.0\" y=\"195.0\" dominant-baseline=\"middle\" text-anchor=\"middle\" font-size=\"14px\" font-family=\"Arial\">3: </text><rect x=\"10.0\" y=\"225.0\" width=\"40\" height=\"40\" stroke=\"black\" fill=\"white\" stroke-width=\"0\" /><text x=\"30.0\" y=\"245.0\" dominant-baseline=\"middle\" text-anchor=\"middle\" font-size=\"14px\" font-family=\"Arial\">4: </text><rect x=\"10.0\" y=\"275.0\" width=\"40\" height=\"40\" stroke=\"black\" fill=\"white\" stroke-width=\"0\" /><text x=\"30.0\" y=\"295.0\" dominant-baseline=\"middle\" text-anchor=\"middle\" font-size=\"14px\" font-family=\"Arial\">5: </text><rect x=\"10.0\" y=\"325.0\" width=\"40\" height=\"40\" stroke=\"black\" fill=\"white\" stroke-width=\"0\" /><text x=\"30.0\" y=\"345.0\" dominant-baseline=\"middle\" text-anchor=\"middle\" font-size=\"14px\" font-family=\"Arial\">A: </text><rect x=\"70.0\" y=\"25.0\" width=\"40\" height=\"40\" stroke=\"black\" fill=\"white\" stroke-width=\"1\" /><text x=\"90.0\" y=\"45.0\" dominant-baseline=\"middle\" text-anchor=\"middle\" font-size=\"18px\" font-family=\"Arial\">H</text><rect x=\"70.0\" y=\"75.0\" width=\"40\" height=\"40\" stroke=\"black\" fill=\"white\" stroke-width=\"1\" /><text x=\"90.0\" y=\"95.0\" dominant-baseline=\"middle\" text-anchor=\"middle\" font-size=\"18px\" font-family=\"Arial\">H</text><rect x=\"70.0\" y=\"125.0\" width=\"40\" height=\"40\" stroke=\"black\" fill=\"white\" stroke-width=\"1\" /><text x=\"90.0\" y=\"145.0\" dominant-baseline=\"middle\" text-anchor=\"middle\" font-size=\"18px\" font-family=\"Arial\">H</text><rect x=\"70.0\" y=\"175.0\" width=\"40\" height=\"40\" stroke=\"black\" fill=\"white\" stroke-width=\"1\" /><text x=\"90.0\" y=\"195.0\" dominant-baseline=\"middle\" text-anchor=\"middle\" font-size=\"18px\" font-family=\"Arial\">H</text><rect x=\"70.0\" y=\"225.0\" width=\"40\" height=\"40\" stroke=\"black\" fill=\"white\" stroke-width=\"1\" /><text x=\"90.0\" y=\"245.0\" dominant-baseline=\"middle\" text-anchor=\"middle\" font-size=\"18px\" font-family=\"Arial\">H</text><rect x=\"70.0\" y=\"275.0\" width=\"40\" height=\"40\" stroke=\"black\" fill=\"white\" stroke-width=\"1\" /><text x=\"90.0\" y=\"295.0\" dominant-baseline=\"middle\" text-anchor=\"middle\" font-size=\"18px\" font-family=\"Arial\">H</text><circle cx=\"150.0\" cy=\"145.0\" r=\"10.0\" /><rect x=\"130.0\" y=\"325.0\" width=\"40\" height=\"40\" stroke=\"black\" fill=\"white\" stroke-width=\"1\" /><text x=\"150.0\" y=\"345.0\" dominant-baseline=\"middle\" text-anchor=\"middle\" font-size=\"18px\" font-family=\"Arial\">X</text><circle cx=\"210.0\" cy=\"45.0\" r=\"10.0\" /><rect x=\"190.0\" y=\"325.0\" width=\"40\" height=\"40\" stroke=\"black\" fill=\"white\" stroke-width=\"1\" /><text x=\"210.0\" y=\"345.0\" dominant-baseline=\"middle\" text-anchor=\"middle\" font-size=\"18px\" font-family=\"Arial\">X</text><circle cx=\"270.0\" cy=\"95.0\" r=\"10.0\" /><rect x=\"250.0\" y=\"325.0\" width=\"40\" height=\"40\" stroke=\"black\" fill=\"white\" stroke-width=\"1\" /><text x=\"270.0\" y=\"345.0\" dominant-baseline=\"middle\" text-anchor=\"middle\" font-size=\"18px\" font-family=\"Arial\">X</text><rect x=\"310.0\" y=\"325.0\" width=\"83.93121093750001\" height=\"40\" stroke=\"black\" fill=\"white\" stroke-width=\"1\" /><text x=\"351.96560546875\" y=\"345.0\" dominant-baseline=\"middle\" text-anchor=\"middle\" font-size=\"14px\" font-family=\"Arial\">Rz(0.667π)</text><circle cx=\"433.9312109375\" cy=\"95.0\" r=\"10.0\" /><rect x=\"413.9312109375\" y=\"325.0\" width=\"40\" height=\"40\" stroke=\"black\" fill=\"white\" stroke-width=\"1\" /><text x=\"433.9312109375\" y=\"345.0\" dominant-baseline=\"middle\" text-anchor=\"middle\" font-size=\"18px\" font-family=\"Arial\">X</text><circle cx=\"493.9312109375\" cy=\"45.0\" r=\"10.0\" /><rect x=\"473.9312109375\" y=\"325.0\" width=\"40\" height=\"40\" stroke=\"black\" fill=\"white\" stroke-width=\"1\" /><text x=\"493.9312109375\" y=\"345.0\" dominant-baseline=\"middle\" text-anchor=\"middle\" font-size=\"18px\" font-family=\"Arial\">X</text><circle cx=\"553.9312109375\" cy=\"145.0\" r=\"10.0\" /><rect x=\"533.9312109375\" y=\"325.0\" width=\"40\" height=\"40\" stroke=\"black\" fill=\"white\" stroke-width=\"1\" /><text x=\"553.9312109375\" y=\"345.0\" dominant-baseline=\"middle\" text-anchor=\"middle\" font-size=\"18px\" font-family=\"Arial\">X</text><circle cx=\"613.9312109375\" cy=\"95.0\" r=\"10.0\" /><rect x=\"593.9312109375\" y=\"325.0\" width=\"40\" height=\"40\" stroke=\"black\" fill=\"white\" stroke-width=\"1\" /><text x=\"613.9312109375\" y=\"345.0\" dominant-baseline=\"middle\" text-anchor=\"middle\" font-size=\"18px\" font-family=\"Arial\">X</text><circle cx=\"673.9312109375\" cy=\"195.0\" r=\"10.0\" /><rect x=\"653.9312109375\" y=\"325.0\" width=\"40\" height=\"40\" stroke=\"black\" fill=\"white\" stroke-width=\"1\" /><text x=\"673.9312109375\" y=\"345.0\" dominant-baseline=\"middle\" text-anchor=\"middle\" font-size=\"18px\" font-family=\"Arial\">X</text><circle cx=\"733.9312109375\" cy=\"145.0\" r=\"10.0\" /><rect x=\"713.9312109375\" y=\"325.0\" width=\"40\" height=\"40\" stroke=\"black\" fill=\"white\" stroke-width=\"1\" /><text x=\"733.9312109375\" y=\"345.0\" dominant-baseline=\"middle\" text-anchor=\"middle\" font-size=\"18px\" font-family=\"Arial\">X</text><rect x=\"773.9312109375\" y=\"325.0\" width=\"83.93121093750001\" height=\"40\" stroke=\"black\" fill=\"white\" stroke-width=\"1\" /><text x=\"815.8968164062501\" y=\"345.0\" dominant-baseline=\"middle\" text-anchor=\"middle\" font-size=\"14px\" font-family=\"Arial\">Rz(0.667π)</text><circle cx=\"897.8624218750001\" cy=\"145.0\" r=\"10.0\" /><rect x=\"877.8624218750001\" y=\"325.0\" width=\"40\" height=\"40\" stroke=\"black\" fill=\"white\" stroke-width=\"1\" /><text x=\"897.8624218750001\" y=\"345.0\" dominant-baseline=\"middle\" text-anchor=\"middle\" font-size=\"18px\" font-family=\"Arial\">X</text><circle cx=\"957.8624218750001\" cy=\"195.0\" r=\"10.0\" /><rect x=\"937.8624218750001\" y=\"325.0\" width=\"40\" height=\"40\" stroke=\"black\" fill=\"white\" stroke-width=\"1\" /><text x=\"957.8624218750001\" y=\"345.0\" dominant-baseline=\"middle\" text-anchor=\"middle\" font-size=\"18px\" font-family=\"Arial\">X</text><circle cx=\"1017.8624218750001\" cy=\"95.0\" r=\"10.0\" /><rect x=\"997.8624218750001\" y=\"325.0\" width=\"40\" height=\"40\" stroke=\"black\" fill=\"white\" stroke-width=\"1\" /><text x=\"1017.8624218750001\" y=\"345.0\" dominant-baseline=\"middle\" text-anchor=\"middle\" font-size=\"18px\" font-family=\"Arial\">X</text><circle cx=\"1077.862421875\" cy=\"45.0\" r=\"10.0\" /><rect x=\"1057.862421875\" y=\"325.0\" width=\"40\" height=\"40\" stroke=\"black\" fill=\"white\" stroke-width=\"1\" /><text x=\"1077.862421875\" y=\"345.0\" dominant-baseline=\"middle\" text-anchor=\"middle\" font-size=\"18px\" font-family=\"Arial\">X</text><circle cx=\"1137.862421875\" cy=\"95.0\" r=\"10.0\" /><rect x=\"1117.862421875\" y=\"325.0\" width=\"40\" height=\"40\" stroke=\"black\" fill=\"white\" stroke-width=\"1\" /><text x=\"1137.862421875\" y=\"345.0\" dominant-baseline=\"middle\" text-anchor=\"middle\" font-size=\"18px\" font-family=\"Arial\">X</text><circle cx=\"1197.862421875\" cy=\"245.0\" r=\"10.0\" /><rect x=\"1177.862421875\" y=\"325.0\" width=\"40\" height=\"40\" stroke=\"black\" fill=\"white\" stroke-width=\"1\" /><text x=\"1197.862421875\" y=\"345.0\" dominant-baseline=\"middle\" text-anchor=\"middle\" font-size=\"18px\" font-family=\"Arial\">X</text><rect x=\"1237.862421875\" y=\"325.0\" width=\"83.93121093750001\" height=\"40\" stroke=\"black\" fill=\"white\" stroke-width=\"1\" /><text x=\"1279.8280273437501\" y=\"345.0\" dominant-baseline=\"middle\" text-anchor=\"middle\" font-size=\"14px\" font-family=\"Arial\">Rz(0.667π)</text><circle cx=\"1361.7936328125002\" cy=\"245.0\" r=\"10.0\" /><rect x=\"1341.7936328125002\" y=\"325.0\" width=\"40\" height=\"40\" stroke=\"black\" fill=\"white\" stroke-width=\"1\" /><text x=\"1361.7936328125002\" y=\"345.0\" dominant-baseline=\"middle\" text-anchor=\"middle\" font-size=\"18px\" font-family=\"Arial\">X</text><circle cx=\"1421.7936328125002\" cy=\"95.0\" r=\"10.0\" /><rect x=\"1401.7936328125002\" y=\"325.0\" width=\"40\" height=\"40\" stroke=\"black\" fill=\"white\" stroke-width=\"1\" /><text x=\"1421.7936328125002\" y=\"345.0\" dominant-baseline=\"middle\" text-anchor=\"middle\" font-size=\"18px\" font-family=\"Arial\">X</text><circle cx=\"1481.7936328125002\" cy=\"45.0\" r=\"10.0\" /><rect x=\"1461.7936328125002\" y=\"325.0\" width=\"40\" height=\"40\" stroke=\"black\" fill=\"white\" stroke-width=\"1\" /><text x=\"1481.7936328125002\" y=\"345.0\" dominant-baseline=\"middle\" text-anchor=\"middle\" font-size=\"18px\" font-family=\"Arial\">X</text><circle cx=\"1541.7936328125002\" cy=\"245.0\" r=\"10.0\" /><rect x=\"1521.7936328125002\" y=\"325.0\" width=\"40\" height=\"40\" stroke=\"black\" fill=\"white\" stroke-width=\"1\" /><text x=\"1541.7936328125002\" y=\"345.0\" dominant-baseline=\"middle\" text-anchor=\"middle\" font-size=\"18px\" font-family=\"Arial\">X</text><circle cx=\"1601.7936328125002\" cy=\"295.0\" r=\"10.0\" /><rect x=\"1581.7936328125002\" y=\"325.0\" width=\"40\" height=\"40\" stroke=\"black\" fill=\"white\" stroke-width=\"1\" /><text x=\"1601.7936328125002\" y=\"345.0\" dominant-baseline=\"middle\" text-anchor=\"middle\" font-size=\"18px\" font-family=\"Arial\">X</text><circle cx=\"1661.7936328125002\" cy=\"195.0\" r=\"10.0\" /><rect x=\"1641.7936328125002\" y=\"325.0\" width=\"40\" height=\"40\" stroke=\"black\" fill=\"white\" stroke-width=\"1\" /><text x=\"1661.7936328125002\" y=\"345.0\" dominant-baseline=\"middle\" text-anchor=\"middle\" font-size=\"18px\" font-family=\"Arial\">X</text><rect x=\"1701.7936328125002\" y=\"325.0\" width=\"83.93121093750001\" height=\"40\" stroke=\"black\" fill=\"white\" stroke-width=\"1\" /><text x=\"1743.7592382812502\" y=\"345.0\" dominant-baseline=\"middle\" text-anchor=\"middle\" font-size=\"14px\" font-family=\"Arial\">Rz(0.667π)</text><circle cx=\"1825.7248437500002\" cy=\"195.0\" r=\"10.0\" /><rect x=\"1805.7248437500002\" y=\"325.0\" width=\"40\" height=\"40\" stroke=\"black\" fill=\"white\" stroke-width=\"1\" /><text x=\"1825.7248437500002\" y=\"345.0\" dominant-baseline=\"middle\" text-anchor=\"middle\" font-size=\"18px\" font-family=\"Arial\">X</text><circle cx=\"1885.7248437500002\" cy=\"295.0\" r=\"10.0\" /><rect x=\"1865.7248437500002\" y=\"325.0\" width=\"40\" height=\"40\" stroke=\"black\" fill=\"white\" stroke-width=\"1\" /><text x=\"1885.7248437500002\" y=\"345.0\" dominant-baseline=\"middle\" text-anchor=\"middle\" font-size=\"18px\" font-family=\"Arial\">X</text><circle cx=\"1945.7248437500002\" cy=\"245.0\" r=\"10.0\" /><rect x=\"1925.7248437500002\" y=\"325.0\" width=\"40\" height=\"40\" stroke=\"black\" fill=\"white\" stroke-width=\"1\" /><text x=\"1945.7248437500002\" y=\"345.0\" dominant-baseline=\"middle\" text-anchor=\"middle\" font-size=\"18px\" font-family=\"Arial\">X</text><circle cx=\"2005.7248437500002\" cy=\"245.0\" r=\"10.0\" /><rect x=\"1985.7248437500002\" y=\"325.0\" width=\"40\" height=\"40\" stroke=\"black\" fill=\"white\" stroke-width=\"1\" /><text x=\"2005.7248437500002\" y=\"345.0\" dominant-baseline=\"middle\" text-anchor=\"middle\" font-size=\"18px\" font-family=\"Arial\">X</text><circle cx=\"2065.72484375\" cy=\"295.0\" r=\"10.0\" /><rect x=\"2045.7248437500002\" y=\"325.0\" width=\"40\" height=\"40\" stroke=\"black\" fill=\"white\" stroke-width=\"1\" /><text x=\"2065.72484375\" y=\"345.0\" dominant-baseline=\"middle\" text-anchor=\"middle\" font-size=\"18px\" font-family=\"Arial\">X</text><circle cx=\"2125.72484375\" cy=\"95.0\" r=\"10.0\" /><rect x=\"2105.72484375\" y=\"325.0\" width=\"40\" height=\"40\" stroke=\"black\" fill=\"white\" stroke-width=\"1\" /><text x=\"2125.72484375\" y=\"345.0\" dominant-baseline=\"middle\" text-anchor=\"middle\" font-size=\"18px\" font-family=\"Arial\">X</text><rect x=\"2165.72484375\" y=\"325.0\" width=\"83.93121093750001\" height=\"40\" stroke=\"black\" fill=\"white\" stroke-width=\"1\" /><text x=\"2207.69044921875\" y=\"345.0\" dominant-baseline=\"middle\" text-anchor=\"middle\" font-size=\"14px\" font-family=\"Arial\">Rz(0.667π)</text><circle cx=\"2289.6560546875003\" cy=\"95.0\" r=\"10.0\" /><rect x=\"2269.6560546875003\" y=\"325.0\" width=\"40\" height=\"40\" stroke=\"black\" fill=\"white\" stroke-width=\"1\" /><text x=\"2289.6560546875003\" y=\"345.0\" dominant-baseline=\"middle\" text-anchor=\"middle\" font-size=\"18px\" font-family=\"Arial\">X</text><circle cx=\"2349.6560546875003\" cy=\"295.0\" r=\"10.0\" /><rect x=\"2329.6560546875003\" y=\"325.0\" width=\"40\" height=\"40\" stroke=\"black\" fill=\"white\" stroke-width=\"1\" /><text x=\"2349.6560546875003\" y=\"345.0\" dominant-baseline=\"middle\" text-anchor=\"middle\" font-size=\"18px\" font-family=\"Arial\">X</text><circle cx=\"2409.6560546875003\" cy=\"245.0\" r=\"10.0\" /><rect x=\"2389.6560546875003\" y=\"325.0\" width=\"40\" height=\"40\" stroke=\"black\" fill=\"white\" stroke-width=\"1\" /><text x=\"2409.6560546875003\" y=\"345.0\" dominant-baseline=\"middle\" text-anchor=\"middle\" font-size=\"18px\" font-family=\"Arial\">X</text><circle cx=\"2469.6560546875003\" cy=\"145.0\" r=\"10.0\" /><rect x=\"2449.6560546875003\" y=\"325.0\" width=\"40\" height=\"40\" stroke=\"black\" fill=\"white\" stroke-width=\"1\" /><text x=\"2469.6560546875003\" y=\"345.0\" dominant-baseline=\"middle\" text-anchor=\"middle\" font-size=\"18px\" font-family=\"Arial\">X</text><circle cx=\"2529.6560546875003\" cy=\"195.0\" r=\"10.0\" /><rect x=\"2509.6560546875003\" y=\"325.0\" width=\"40\" height=\"40\" stroke=\"black\" fill=\"white\" stroke-width=\"1\" /><text x=\"2529.6560546875003\" y=\"345.0\" dominant-baseline=\"middle\" text-anchor=\"middle\" font-size=\"18px\" font-family=\"Arial\">X</text><circle cx=\"2589.6560546875003\" cy=\"245.0\" r=\"10.0\" /><rect x=\"2569.6560546875003\" y=\"325.0\" width=\"40\" height=\"40\" stroke=\"black\" fill=\"white\" stroke-width=\"1\" /><text x=\"2589.6560546875003\" y=\"345.0\" dominant-baseline=\"middle\" text-anchor=\"middle\" font-size=\"18px\" font-family=\"Arial\">X</text><rect x=\"2629.6560546875003\" y=\"325.0\" width=\"83.93121093750001\" height=\"40\" stroke=\"black\" fill=\"white\" stroke-width=\"1\" /><text x=\"2671.62166015625\" y=\"345.0\" dominant-baseline=\"middle\" text-anchor=\"middle\" font-size=\"14px\" font-family=\"Arial\">Rz(0.667π)</text><circle cx=\"2753.5872656250003\" cy=\"245.0\" r=\"10.0\" /><rect x=\"2733.5872656250003\" y=\"325.0\" width=\"40\" height=\"40\" stroke=\"black\" fill=\"white\" stroke-width=\"1\" /><text x=\"2753.5872656250003\" y=\"345.0\" dominant-baseline=\"middle\" text-anchor=\"middle\" font-size=\"18px\" font-family=\"Arial\">X</text><circle cx=\"2813.5872656250003\" cy=\"195.0\" r=\"10.0\" /><rect x=\"2793.5872656250003\" y=\"325.0\" width=\"40\" height=\"40\" stroke=\"black\" fill=\"white\" stroke-width=\"1\" /><text x=\"2813.5872656250003\" y=\"345.0\" dominant-baseline=\"middle\" text-anchor=\"middle\" font-size=\"18px\" font-family=\"Arial\">X</text><circle cx=\"2873.5872656250003\" cy=\"145.0\" r=\"10.0\" /><rect x=\"2853.5872656250003\" y=\"325.0\" width=\"40\" height=\"40\" stroke=\"black\" fill=\"white\" stroke-width=\"1\" /><text x=\"2873.5872656250003\" y=\"345.0\" dominant-baseline=\"middle\" text-anchor=\"middle\" font-size=\"18px\" font-family=\"Arial\">X</text><circle cx=\"2933.5872656250003\" cy=\"95.0\" r=\"10.0\" /><rect x=\"2913.5872656250003\" y=\"325.0\" width=\"40\" height=\"40\" stroke=\"black\" fill=\"white\" stroke-width=\"1\" /><text x=\"2933.5872656250003\" y=\"345.0\" dominant-baseline=\"middle\" text-anchor=\"middle\" font-size=\"18px\" font-family=\"Arial\">X</text><circle cx=\"2993.5872656250003\" cy=\"295.0\" r=\"10.0\" /><rect x=\"2973.5872656250003\" y=\"325.0\" width=\"40\" height=\"40\" stroke=\"black\" fill=\"white\" stroke-width=\"1\" /><text x=\"2993.5872656250003\" y=\"345.0\" dominant-baseline=\"middle\" text-anchor=\"middle\" font-size=\"18px\" font-family=\"Arial\">X</text><circle cx=\"3053.5872656250003\" cy=\"145.0\" r=\"10.0\" /><rect x=\"3033.5872656250003\" y=\"325.0\" width=\"40\" height=\"40\" stroke=\"black\" fill=\"white\" stroke-width=\"1\" /><text x=\"3053.5872656250003\" y=\"345.0\" dominant-baseline=\"middle\" text-anchor=\"middle\" font-size=\"18px\" font-family=\"Arial\">X</text><rect x=\"3093.5872656250003\" y=\"325.0\" width=\"83.93121093750001\" height=\"40\" stroke=\"black\" fill=\"white\" stroke-width=\"1\" /><text x=\"3135.55287109375\" y=\"345.0\" dominant-baseline=\"middle\" text-anchor=\"middle\" font-size=\"14px\" font-family=\"Arial\">Rz(0.667π)</text><circle cx=\"3217.5184765625004\" cy=\"145.0\" r=\"10.0\" /><rect x=\"3197.5184765625004\" y=\"325.0\" width=\"40\" height=\"40\" stroke=\"black\" fill=\"white\" stroke-width=\"1\" /><text x=\"3217.5184765625004\" y=\"345.0\" dominant-baseline=\"middle\" text-anchor=\"middle\" font-size=\"18px\" font-family=\"Arial\">X</text><circle cx=\"3277.5184765625004\" cy=\"295.0\" r=\"10.0\" /><rect x=\"3257.5184765625004\" y=\"325.0\" width=\"40\" height=\"40\" stroke=\"black\" fill=\"white\" stroke-width=\"1\" /><text x=\"3277.5184765625004\" y=\"345.0\" dominant-baseline=\"middle\" text-anchor=\"middle\" font-size=\"18px\" font-family=\"Arial\">X</text><circle cx=\"3337.5184765625004\" cy=\"95.0\" r=\"10.0\" /><rect x=\"3317.5184765625004\" y=\"325.0\" width=\"40\" height=\"40\" stroke=\"black\" fill=\"white\" stroke-width=\"1\" /><text x=\"3337.5184765625004\" y=\"345.0\" dominant-baseline=\"middle\" text-anchor=\"middle\" font-size=\"18px\" font-family=\"Arial\">X</text><circle cx=\"3397.5184765625004\" cy=\"45.0\" r=\"10.0\" /><rect x=\"3377.5184765625004\" y=\"325.0\" width=\"40\" height=\"40\" stroke=\"black\" fill=\"white\" stroke-width=\"1\" /><text x=\"3397.5184765625004\" y=\"345.0\" dominant-baseline=\"middle\" text-anchor=\"middle\" font-size=\"18px\" font-family=\"Arial\">X</text><circle cx=\"3457.5184765625004\" cy=\"95.0\" r=\"10.0\" /><rect x=\"3437.5184765625004\" y=\"325.0\" width=\"40\" height=\"40\" stroke=\"black\" fill=\"white\" stroke-width=\"1\" /><text x=\"3457.5184765625004\" y=\"345.0\" dominant-baseline=\"middle\" text-anchor=\"middle\" font-size=\"18px\" font-family=\"Arial\">X</text><circle cx=\"3517.5184765625004\" cy=\"195.0\" r=\"10.0\" /><rect x=\"3497.5184765625004\" y=\"325.0\" width=\"40\" height=\"40\" stroke=\"black\" fill=\"white\" stroke-width=\"1\" /><text x=\"3517.5184765625004\" y=\"345.0\" dominant-baseline=\"middle\" text-anchor=\"middle\" font-size=\"18px\" font-family=\"Arial\">X</text><rect x=\"3557.5184765625004\" y=\"325.0\" width=\"83.93121093750001\" height=\"40\" stroke=\"black\" fill=\"white\" stroke-width=\"1\" /><text x=\"3599.48408203125\" y=\"345.0\" dominant-baseline=\"middle\" text-anchor=\"middle\" font-size=\"14px\" font-family=\"Arial\">Rz(0.667π)</text><circle cx=\"3681.4496875000004\" cy=\"195.0\" r=\"10.0\" /><rect x=\"3661.4496875000004\" y=\"325.0\" width=\"40\" height=\"40\" stroke=\"black\" fill=\"white\" stroke-width=\"1\" /><text x=\"3681.4496875000004\" y=\"345.0\" dominant-baseline=\"middle\" text-anchor=\"middle\" font-size=\"18px\" font-family=\"Arial\">X</text><circle cx=\"3741.4496875000004\" cy=\"95.0\" r=\"10.0\" /><rect x=\"3721.4496875000004\" y=\"325.0\" width=\"40\" height=\"40\" stroke=\"black\" fill=\"white\" stroke-width=\"1\" /><text x=\"3741.4496875000004\" y=\"345.0\" dominant-baseline=\"middle\" text-anchor=\"middle\" font-size=\"18px\" font-family=\"Arial\">X</text><circle cx=\"3801.4496875000004\" cy=\"45.0\" r=\"10.0\" /><rect x=\"3781.4496875000004\" y=\"325.0\" width=\"40\" height=\"40\" stroke=\"black\" fill=\"white\" stroke-width=\"1\" /><text x=\"3801.4496875000004\" y=\"345.0\" dominant-baseline=\"middle\" text-anchor=\"middle\" font-size=\"18px\" font-family=\"Arial\">X</text><circle cx=\"3861.4496875000004\" cy=\"195.0\" r=\"10.0\" /><rect x=\"3841.4496875000004\" y=\"325.0\" width=\"40\" height=\"40\" stroke=\"black\" fill=\"white\" stroke-width=\"1\" /><text x=\"3861.4496875000004\" y=\"345.0\" dominant-baseline=\"middle\" text-anchor=\"middle\" font-size=\"18px\" font-family=\"Arial\">X</text><circle cx=\"3921.4496875000004\" cy=\"145.0\" r=\"10.0\" /><rect x=\"3901.4496875000004\" y=\"325.0\" width=\"40\" height=\"40\" stroke=\"black\" fill=\"white\" stroke-width=\"1\" /><text x=\"3921.4496875000004\" y=\"345.0\" dominant-baseline=\"middle\" text-anchor=\"middle\" font-size=\"18px\" font-family=\"Arial\">X</text><circle cx=\"3981.4496875000004\" cy=\"245.0\" r=\"10.0\" /><rect x=\"3961.4496875000004\" y=\"325.0\" width=\"40\" height=\"40\" stroke=\"black\" fill=\"white\" stroke-width=\"1\" /><text x=\"3981.4496875000004\" y=\"345.0\" dominant-baseline=\"middle\" text-anchor=\"middle\" font-size=\"18px\" font-family=\"Arial\">X</text><rect x=\"4021.4496875000004\" y=\"325.0\" width=\"83.93121093750001\" height=\"40\" stroke=\"black\" fill=\"white\" stroke-width=\"1\" /><text x=\"4063.4152929687502\" y=\"345.0\" dominant-baseline=\"middle\" text-anchor=\"middle\" font-size=\"14px\" font-family=\"Arial\">Rz(0.667π)</text><circle cx=\"4145.3808984375\" cy=\"245.0\" r=\"10.0\" /><rect x=\"4125.3808984375\" y=\"325.0\" width=\"40\" height=\"40\" stroke=\"black\" fill=\"white\" stroke-width=\"1\" /><text x=\"4145.3808984375\" y=\"345.0\" dominant-baseline=\"middle\" text-anchor=\"middle\" font-size=\"18px\" font-family=\"Arial\">X</text><circle cx=\"4205.3808984375\" cy=\"145.0\" r=\"10.0\" /><rect x=\"4185.3808984375\" y=\"325.0\" width=\"40\" height=\"40\" stroke=\"black\" fill=\"white\" stroke-width=\"1\" /><text x=\"4205.3808984375\" y=\"345.0\" dominant-baseline=\"middle\" text-anchor=\"middle\" font-size=\"18px\" font-family=\"Arial\">X</text><circle cx=\"4285.88703125\" cy=\"195.0\" r=\"10.0\" /><rect x=\"4245.3808984375\" y=\"325.0\" width=\"81.01226562500001\" height=\"40\" stroke=\"black\" fill=\"white\" stroke-width=\"1\" /><text x=\"4285.88703125\" y=\"345.0\" dominant-baseline=\"middle\" text-anchor=\"middle\" font-size=\"18px\" font-family=\"Arial\">X</text><rect x=\"4245.3808984375\" y=\"125.0\" width=\"81.01226562500001\" height=\"40\" stroke=\"black\" fill=\"white\" stroke-width=\"1\" /><text x=\"4285.88703125\" y=\"145.0\" dominant-baseline=\"middle\" text-anchor=\"middle\" font-size=\"14px\" font-family=\"Arial\">Rx(-0.25π)</text><circle cx=\"4366.3931640625\" cy=\"245.0\" r=\"10.0\" /><rect x=\"4346.3931640625\" y=\"325.0\" width=\"40\" height=\"40\" stroke=\"black\" fill=\"white\" stroke-width=\"1\" /><text x=\"4366.3931640625\" y=\"345.0\" dominant-baseline=\"middle\" text-anchor=\"middle\" font-size=\"18px\" font-family=\"Arial\">X</text><circle cx=\"4426.3931640625\" cy=\"95.0\" r=\"10.0\" /><rect x=\"4406.3931640625\" y=\"325.0\" width=\"40\" height=\"40\" stroke=\"black\" fill=\"white\" stroke-width=\"1\" /><text x=\"4426.3931640625\" y=\"345.0\" dominant-baseline=\"middle\" text-anchor=\"middle\" font-size=\"18px\" font-family=\"Arial\">X</text><circle cx=\"4486.3931640625\" cy=\"45.0\" r=\"10.0\" /><rect x=\"4466.3931640625\" y=\"325.0\" width=\"40\" height=\"40\" stroke=\"black\" fill=\"white\" stroke-width=\"1\" /><text x=\"4486.3931640625\" y=\"345.0\" dominant-baseline=\"middle\" text-anchor=\"middle\" font-size=\"18px\" font-family=\"Arial\">X</text><rect x=\"4526.3931640625\" y=\"325.0\" width=\"83.93121093750001\" height=\"40\" stroke=\"black\" fill=\"white\" stroke-width=\"1\" /><text x=\"4568.35876953125\" y=\"345.0\" dominant-baseline=\"middle\" text-anchor=\"middle\" font-size=\"14px\" font-family=\"Arial\">Rz(0.667π)</text><circle cx=\"4650.324374999999\" cy=\"45.0\" r=\"10.0\" /><rect x=\"4630.324374999999\" y=\"325.0\" width=\"40\" height=\"40\" stroke=\"black\" fill=\"white\" stroke-width=\"1\" /><text x=\"4650.324374999999\" y=\"345.0\" dominant-baseline=\"middle\" text-anchor=\"middle\" font-size=\"18px\" font-family=\"Arial\">X</text><circle cx=\"4710.324374999999\" cy=\"95.0\" r=\"10.0\" /><rect x=\"4690.324374999999\" y=\"325.0\" width=\"40\" height=\"40\" stroke=\"black\" fill=\"white\" stroke-width=\"1\" /><text x=\"4710.324374999999\" y=\"345.0\" dominant-baseline=\"middle\" text-anchor=\"middle\" font-size=\"18px\" font-family=\"Arial\">X</text><circle cx=\"4790.8305078124995\" cy=\"245.0\" r=\"10.0\" /><rect x=\"4750.324374999999\" y=\"325.0\" width=\"81.01226562500001\" height=\"40\" stroke=\"black\" fill=\"white\" stroke-width=\"1\" /><text x=\"4790.8305078124995\" y=\"345.0\" dominant-baseline=\"middle\" text-anchor=\"middle\" font-size=\"18px\" font-family=\"Arial\">X</text><rect x=\"4750.324374999999\" y=\"75.0\" width=\"81.01226562500001\" height=\"40\" stroke=\"black\" fill=\"white\" stroke-width=\"1\" /><text x=\"4790.8305078124995\" y=\"95.0\" dominant-baseline=\"middle\" text-anchor=\"middle\" font-size=\"14px\" font-family=\"Arial\">Rx(-0.25π)</text><circle cx=\"4871.336640624999\" cy=\"245.0\" r=\"10.0\" /><rect x=\"4851.336640624999\" y=\"325.0\" width=\"40\" height=\"40\" stroke=\"black\" fill=\"white\" stroke-width=\"1\" /><text x=\"4871.336640624999\" y=\"345.0\" dominant-baseline=\"middle\" text-anchor=\"middle\" font-size=\"18px\" font-family=\"Arial\">X</text><circle cx=\"4931.336640624999\" cy=\"295.0\" r=\"10.0\" /><rect x=\"4911.336640624999\" y=\"325.0\" width=\"40\" height=\"40\" stroke=\"black\" fill=\"white\" stroke-width=\"1\" /><text x=\"4931.336640624999\" y=\"345.0\" dominant-baseline=\"middle\" text-anchor=\"middle\" font-size=\"18px\" font-family=\"Arial\">X</text><circle cx=\"4991.336640624999\" cy=\"195.0\" r=\"10.0\" /><rect x=\"4971.336640624999\" y=\"325.0\" width=\"40\" height=\"40\" stroke=\"black\" fill=\"white\" stroke-width=\"1\" /><text x=\"4991.336640624999\" y=\"345.0\" dominant-baseline=\"middle\" text-anchor=\"middle\" font-size=\"18px\" font-family=\"Arial\">X</text><rect x=\"5031.336640624999\" y=\"325.0\" width=\"83.93121093750001\" height=\"40\" stroke=\"black\" fill=\"white\" stroke-width=\"1\" /><text x=\"5073.302246093749\" y=\"345.0\" dominant-baseline=\"middle\" text-anchor=\"middle\" font-size=\"14px\" font-family=\"Arial\">Rz(0.667π)</text><circle cx=\"5155.267851562498\" cy=\"195.0\" r=\"10.0\" /><rect x=\"5135.267851562498\" y=\"325.0\" width=\"40\" height=\"40\" stroke=\"black\" fill=\"white\" stroke-width=\"1\" /><text x=\"5155.267851562498\" y=\"345.0\" dominant-baseline=\"middle\" text-anchor=\"middle\" font-size=\"18px\" font-family=\"Arial\">X</text><circle cx=\"5215.267851562498\" cy=\"295.0\" r=\"10.0\" /><rect x=\"5195.267851562498\" y=\"325.0\" width=\"40\" height=\"40\" stroke=\"black\" fill=\"white\" stroke-width=\"1\" /><text x=\"5215.267851562498\" y=\"345.0\" dominant-baseline=\"middle\" text-anchor=\"middle\" font-size=\"18px\" font-family=\"Arial\">X</text><circle cx=\"5265.267851562498\" cy=\"245.0\" r=\"10.0\" /><rect x=\"5245.267851562498\" y=\"325.0\" width=\"40\" height=\"40\" stroke=\"black\" fill=\"white\" stroke-width=\"1\" /><text x=\"5265.267851562498\" y=\"345.0\" dominant-baseline=\"middle\" text-anchor=\"middle\" font-size=\"18px\" font-family=\"Arial\">X</text><rect x=\"5285.267851562498\" y=\"275.0\" width=\"81.01226562500001\" height=\"40\" stroke=\"black\" fill=\"white\" stroke-width=\"1\" /><text x=\"5325.773984374999\" y=\"295.0\" dominant-baseline=\"middle\" text-anchor=\"middle\" font-size=\"14px\" font-family=\"Arial\">Rx(-0.25π)</text><circle cx=\"5416.280117187498\" cy=\"245.0\" r=\"10.0\" /><rect x=\"5396.280117187498\" y=\"325.0\" width=\"40\" height=\"40\" stroke=\"black\" fill=\"white\" stroke-width=\"1\" /><text x=\"5416.280117187498\" y=\"345.0\" dominant-baseline=\"middle\" text-anchor=\"middle\" font-size=\"18px\" font-family=\"Arial\">X</text><circle cx=\"5476.280117187498\" cy=\"195.0\" r=\"10.0\" /><rect x=\"5456.280117187498\" y=\"325.0\" width=\"40\" height=\"40\" stroke=\"black\" fill=\"white\" stroke-width=\"1\" /><text x=\"5476.280117187498\" y=\"345.0\" dominant-baseline=\"middle\" text-anchor=\"middle\" font-size=\"18px\" font-family=\"Arial\">X</text><circle cx=\"5536.280117187498\" cy=\"45.0\" r=\"10.0\" /><rect x=\"5516.280117187498\" y=\"325.0\" width=\"40\" height=\"40\" stroke=\"black\" fill=\"white\" stroke-width=\"1\" /><text x=\"5536.280117187498\" y=\"345.0\" dominant-baseline=\"middle\" text-anchor=\"middle\" font-size=\"18px\" font-family=\"Arial\">X</text><rect x=\"5576.280117187498\" y=\"325.0\" width=\"83.93121093750001\" height=\"40\" stroke=\"black\" fill=\"white\" stroke-width=\"1\" /><text x=\"5618.245722656248\" y=\"345.0\" dominant-baseline=\"middle\" text-anchor=\"middle\" font-size=\"14px\" font-family=\"Arial\">Rz(0.667π)</text><circle cx=\"5700.211328124998\" cy=\"45.0\" r=\"10.0\" /><rect x=\"5680.211328124998\" y=\"325.0\" width=\"40\" height=\"40\" stroke=\"black\" fill=\"white\" stroke-width=\"1\" /><text x=\"5700.211328124998\" y=\"345.0\" dominant-baseline=\"middle\" text-anchor=\"middle\" font-size=\"18px\" font-family=\"Arial\">X</text><circle cx=\"5780.717460937498\" cy=\"195.0\" r=\"10.0\" /><rect x=\"5740.211328124998\" y=\"325.0\" width=\"81.01226562500001\" height=\"40\" stroke=\"black\" fill=\"white\" stroke-width=\"1\" /><text x=\"5780.717460937498\" y=\"345.0\" dominant-baseline=\"middle\" text-anchor=\"middle\" font-size=\"18px\" font-family=\"Arial\">X</text><rect x=\"5740.211328124998\" y=\"25.0\" width=\"81.01226562500001\" height=\"40\" stroke=\"black\" fill=\"white\" stroke-width=\"1\" /><text x=\"5780.717460937498\" y=\"45.0\" dominant-baseline=\"middle\" text-anchor=\"middle\" font-size=\"14px\" font-family=\"Arial\">Rx(-0.25π)</text><circle cx=\"5881.7297265624975\" cy=\"245.0\" r=\"10.0\" /><rect x=\"5841.223593749997\" y=\"325.0\" width=\"81.01226562500001\" height=\"40\" stroke=\"black\" fill=\"white\" stroke-width=\"1\" /><text x=\"5881.7297265624975\" y=\"345.0\" dominant-baseline=\"middle\" text-anchor=\"middle\" font-size=\"18px\" font-family=\"Arial\">X</text><rect x=\"5841.223593749997\" y=\"175.0\" width=\"81.01226562500001\" height=\"40\" stroke=\"black\" fill=\"white\" stroke-width=\"1\" /><text x=\"5881.7297265624975\" y=\"195.0\" dominant-baseline=\"middle\" text-anchor=\"middle\" font-size=\"14px\" font-family=\"Arial\">Rx(-0.25π)</text><rect x=\"5942.235859374997\" y=\"225.0\" width=\"81.01226562500001\" height=\"40\" stroke=\"black\" fill=\"white\" stroke-width=\"1\" /><text x=\"5982.741992187497\" y=\"245.0\" dominant-baseline=\"middle\" text-anchor=\"middle\" font-size=\"14px\" font-family=\"Arial\">Rx(-0.25π)</text><rect x=\"6043.248124999996\" y=\"25.0\" width=\"45.4722265625\" height=\"40\" stroke=\"black\" fill=\"white\" stroke-width=\"1\" /><text x=\"6065.984238281247\" y=\"45.0\" dominant-baseline=\"middle\" text-anchor=\"middle\" font-size=\"14px\" font-family=\"Arial\">M('z')</text><rect x=\"6043.248124999996\" y=\"75.0\" width=\"45.4722265625\" height=\"40\" stroke=\"black\" fill=\"white\" stroke-width=\"1\" /><text x=\"6065.984238281247\" y=\"95.0\" dominant-baseline=\"middle\" text-anchor=\"middle\" font-size=\"18px\" font-family=\"Arial\">M</text><rect x=\"6043.248124999996\" y=\"125.0\" width=\"45.4722265625\" height=\"40\" stroke=\"black\" fill=\"white\" stroke-width=\"1\" /><text x=\"6065.984238281247\" y=\"145.0\" dominant-baseline=\"middle\" text-anchor=\"middle\" font-size=\"18px\" font-family=\"Arial\">M</text><rect x=\"6043.248124999996\" y=\"175.0\" width=\"45.4722265625\" height=\"40\" stroke=\"black\" fill=\"white\" stroke-width=\"1\" /><text x=\"6065.984238281247\" y=\"195.0\" dominant-baseline=\"middle\" text-anchor=\"middle\" font-size=\"18px\" font-family=\"Arial\">M</text><rect x=\"6043.248124999996\" y=\"225.0\" width=\"45.4722265625\" height=\"40\" stroke=\"black\" fill=\"white\" stroke-width=\"1\" /><text x=\"6065.984238281247\" y=\"245.0\" dominant-baseline=\"middle\" text-anchor=\"middle\" font-size=\"18px\" font-family=\"Arial\">M</text><rect x=\"6043.248124999996\" y=\"275.0\" width=\"45.4722265625\" height=\"40\" stroke=\"black\" fill=\"white\" stroke-width=\"1\" /><text x=\"6065.984238281247\" y=\"295.0\" dominant-baseline=\"middle\" text-anchor=\"middle\" font-size=\"18px\" font-family=\"Arial\">M</text></svg>"
      ],
      "text/plain": [
       "<cirq.contrib.svg.svg.SVGCircuit at 0x7f0bbd020d00>"
      ]
     },
     "execution_count": 15,
     "metadata": {},
     "output_type": "execute_result"
    }
   ],
   "source": [
    "#2b) make 1 layer of QAOA\n",
    "ground_states, ground_energy = solveHp(H_p)\n",
    "qubits = cirq.LineQubit.range(6)\n",
    "anc = cirq.NamedQubit(\"A\")\n",
    "circuit = makeQAOA_1layer(qubits, anc, H_p, np.pi/3, -np.pi/8)\n",
    "SVGCircuit(cirq.Circuit(circuit))"
   ]
  },
  {
   "cell_type": "code",
   "execution_count": 16,
   "id": "41784fd0",
   "metadata": {},
   "outputs": [
    {
     "name": "stdout",
     "output_type": "stream",
     "text": [
      "Best Statistics\n",
      "Alpha:  1.2217304763960306\n",
      "Beta:  0.8726646259971647\n",
      "Expected Energy:  -0.802\n",
      "Probability of Ground State:  3.3000000000000003 %\n"
     ]
    }
   ],
   "source": [
    "#Optimize alpha and beta for 1 layer\n",
    "dim = 10\n",
    "angles = np.linspace(-np.pi/2, np.pi/2, num=dim)\n",
    "\n",
    "optimal2 = [0, 0, 0, 0]\n",
    "for i in range(dim):\n",
    "    for j in range(dim):\n",
    "        circuit = makeQAOA_1layer(qubits, anc, H_p, angles[i], angles[j])\n",
    "        s_energy, g_prob = expectHp(circuit,qubits,H_p,ground_energy)\n",
    "        if s_energy < optimal2[2]:\n",
    "            optimal2 = [angles[i], angles[j], s_energy, g_prob]\n",
    "            \n",
    "\n",
    "print(\"Best Statistics\")\n",
    "print(\"Alpha: \", optimal2[0])\n",
    "print(\"Beta: \", optimal2[1])\n",
    "print(\"Expected Energy: \", optimal2[2])\n",
    "print(\"Probability of Ground State: \", optimal2[3]*100,\"%\")"
   ]
  },
  {
   "cell_type": "code",
   "execution_count": 20,
   "id": "248ca5a2",
   "metadata": {},
   "outputs": [
    {
     "name": "stdout",
     "output_type": "stream",
     "text": [
      "Best Statistics\n",
      "3ZAngle1:  -1.5707963267948966\n",
      "RxAngle1:  0.17453292519943298\n",
      "3ZAngle2:  0.17453292519943298\n",
      "RxAngle2:  -0.8726646259971648\n",
      "Expected Energy:  -1.418\n",
      "Probability of Ground State:  8.9 %\n"
     ]
    }
   ],
   "source": [
    "#2c)\n",
    "#Brute force (at first)\n",
    "#Optimize alpha and beta\n",
    "#This takes like 5m to run, so just don't\n",
    "dim = 10\n",
    "angles = np.linspace(-np.pi/2, np.pi/2, num=dim)\n",
    "\n",
    "optimal4 = [0, 0, 0, 0, 0, 0]\n",
    "for i in angles:\n",
    "    for j in angles:\n",
    "        for k in angles:\n",
    "            for l in angles:\n",
    "                circuit2 = makeQAOA_2layer(qubits, anc, H_p, [i, j, k, l])\n",
    "                s_energy, g_prob = expectHp(circuit2,qubits,H_p,ground_energy)\n",
    "                if s_energy < optimal4[4]:\n",
    "                    optimal4 = [i, j, k, l, s_energy, g_prob]\n",
    "                    \n",
    "print(\"Best Statistics\")\n",
    "print(\"3ZAngle1: \", optimal4[0])\n",
    "print(\"RxAngle1: \", optimal4[1])\n",
    "print(\"3ZAngle2: \", optimal4[2])\n",
    "print(\"RxAngle2: \", optimal4[3])\n",
    "print(\"Expected Energy: \", optimal4[4])\n",
    "print(\"Probability of Ground State: \", optimal4[5]*100,\"%\")"
   ]
  },
  {
   "cell_type": "code",
   "execution_count": 17,
   "id": "c23cfd93",
   "metadata": {},
   "outputs": [
    {
     "name": "stdout",
     "output_type": "stream",
     "text": [
      "\n",
      "Starting Location:  [1 4 8 8]\n",
      "Local Min:  [1 4 7 9] Energy:  -0.174\n",
      "\n",
      "Starting Location:  [1 9 7 8]\n",
      "Local Min:  [1 8 5 8] Energy:  -0.976\n",
      "\n",
      "Starting Location:  [8 6 3 7]\n",
      "Local Min:  [9 6 4 7] Energy:  -1.224\n",
      "\n",
      "Starting Location:  [5 0 3 3]\n",
      "Local Min:  [6 0 2 2] Energy:  -1.13\n",
      "\n",
      "Starting Location:  [0 9 7 5]\n",
      "Local Min:  [0 9 8 5] Energy:  -0.146\n",
      "\n",
      "Starting Location:  [7 7 2 0]\n",
      "Local Min:  [7 8 2 1] Energy:  -0.454\n",
      "\n",
      "Starting Location:  [3 4 9 6]\n",
      "Local Min:  [4 4 9 6] Energy:  -0.91\n",
      "\n",
      "Starting Location:  [2 0 0 8]\n",
      "Local Min:  [2 1 1 8] Energy:  -0.192\n",
      "\n",
      "Starting Location:  [4 7 9 1]\n",
      "Local Min:  [4 8 9 1] Energy:  -0.538\n",
      "\n",
      "Starting Location:  [4 2 1 9]\n",
      "Local Min:  [6 2 1 9] Energy:  -0.644\n",
      "Best Statistics\n",
      "State:  [9 6 4 7]\n",
      "3ZAngles:  [ 1.57079633 -0.17453293]\n",
      "RxAngles:  [0.52359878 0.87266463]\n",
      "Expected Energy:  -1.032\n",
      "Probability of Ground State:  7.000000000000001 %\n"
     ]
    }
   ],
   "source": [
    "#2c) Steepest Descent Optimization with k layers of QAOA\n",
    "#Basic Version: 10, 10, 2\n",
    "#Adding more layers can get way better results\n",
    "\n",
    "dim = 10#how fine the sweep is - Quadratic Time Scale\n",
    "iterations = 10#how many times to run the algorithm and compare - Linear Time Scale\n",
    "layer_count = 2#how many layers to perform - flexibility     - Quadratic Time Scale\n",
    "\n",
    "angles = np.linspace(-np.pi/2, np.pi/2, num=dim)\n",
    "best_pos = np.zeros(2*layer_count)#no idea tbh\n",
    "best_energy = 100\n",
    "\n",
    "for i in range(iterations):\n",
    "    c_pos = np.random.randint(len(angles),size=layer_count*2)\n",
    "    print(\"\\nStarting Location: \",c_pos)\n",
    "    \n",
    "    energy_low = 100\n",
    "    while True:\n",
    "        #List of adjacent states(angle sets)\n",
    "        state_set = []\n",
    "        state_low = c_pos#starting state at the beginning of the round\n",
    "        for j in range(len(c_pos)):\n",
    "            if c_pos[j] + 1 < dim:#add angle up and down to the list of states to check\n",
    "                s = c_pos.copy()\n",
    "                s[j] += 1\n",
    "                state_set.append(s)\n",
    "            if c_pos[j] - 1 >= 0:\n",
    "                s = c_pos.copy()\n",
    "                s[j] -= 1\n",
    "                state_set.append(s)\n",
    "\n",
    "                #Find the energies of all the states and choose the lowest one        \n",
    "        for s in state_set:\n",
    "            angle_list = [] #alpha and beta lists meshed together\n",
    "            for qidx in s:\n",
    "                angle_list.append(angles[qidx])\n",
    "            \n",
    "            circuit3 = makeQAOA_2layer(qubits, anc, H_p, angle_list)\n",
    "            s_energy,prob = expectHp(circuit3,qubits,H_p,ground_energy)\n",
    "            if s_energy < energy_low:\n",
    "                state_low = s\n",
    "                energy_low = s_energy\n",
    "        #print(\"Low State: \", state_low)\n",
    "        #Check if s == cpos (it hasn't moved) termination condition for local minima\n",
    "        \n",
    "        if np.array_equal(state_low, c_pos):#FIND THE NUMPY DOCUMENTATION FOR COMPARING ARRAYS\n",
    "            print(\"Local Min: \", state_low, \"Energy: \", energy_low)\n",
    "            break\n",
    "        else:\n",
    "            c_pos = state_low#Update intermediate score\n",
    "\n",
    "    #Update big score\n",
    "    if energy_low < best_energy:\n",
    "        best_energy = energy_low\n",
    "        best_pos = c_pos\n",
    "\n",
    "#Recalculate stats of best state\n",
    "angle_list = [] #alpha and beta lists meshed together\n",
    "for qidx in best_pos:\n",
    "    angle_list.append(angles[qidx])\n",
    "\n",
    "topcirc = makeQAOA_2layer(qubits, anc, H_p, angle_list)\n",
    "best_energy,ground_prob = expectHp(topcirc,qubits,H_p,ground_energy)\n",
    "\n",
    "alpha_list = np.array([])\n",
    "beta_list = np.array([])\n",
    "for i in range(int(len(angle_list)/2)):\n",
    "    alpha_list = np.append(alpha_list, angle_list[i*2])\n",
    "    beta_list = np.append(beta_list, angle_list[i*2+1])\n",
    "\n",
    "print(\"Best Statistics\")\n",
    "print(\"State: \", best_pos)\n",
    "print(\"3ZAngles: \", alpha_list)\n",
    "print(\"RxAngles: \", beta_list)\n",
    "print(\"Expected Energy: \", best_energy)\n",
    "print(\"Probability of Ground State: \", ground_prob*100,\"%\")"
   ]
  },
  {
   "cell_type": "markdown",
   "id": "5ec6925b",
   "metadata": {},
   "source": [
    "I chose both steepest descent and brute force to compare the methods. I wanted to see how good steepest descent was. Turns out, its pretty good and way faster. 2 Layers is a definite improvement. The extra degrees of freedom means we can get closer to the true ground state. Its still pretty far away though, which tells me that we would need a lot of layers to get near the actual ground state. The other apparent problem is that this is not comparable to the speed of solving Hp, at least for these small scall tests. Its also unfair to say that because were simulating a quantum computer with a classical computer which is inherently slow."
   ]
  },
  {
   "cell_type": "code",
   "execution_count": 18,
   "id": "1c932ee7",
   "metadata": {},
   "outputs": [
    {
     "name": "stdout",
     "output_type": "stream",
     "text": [
      "1 Layer Single Error\n",
      "Average Expected Energy:  -0.15634  Ground Probability:  1.6709999999999998 %\n"
     ]
    }
   ],
   "source": [
    "#3. QAOA and Noise\n",
    "#a)\n",
    "\n",
    "e1_list = []\n",
    "g1_list = []\n",
    "\n",
    "for i in range(100):\n",
    "    e1_circuit=makeQAOA_1layer_noise(qubits, anc, H_p, optimal2[0], optimal2[1], 1)\n",
    "    e1_energy, g1_prob = expectHp(e1_circuit,qubits,H_p,ground_energy)\n",
    "    e1_list.append(e1_energy)\n",
    "    g1_list.append(g1_prob)\n",
    "\n",
    "print(\"1 Layer Single Error\\nAverage Expected Energy: \", np.average(np.array(e1_list)), \" Ground Probability: \", np.average(np.array(g1_list))*100,\"%\")"
   ]
  },
  {
   "cell_type": "code",
   "execution_count": 19,
   "id": "768c7ae2",
   "metadata": {},
   "outputs": [
    {
     "name": "stdout",
     "output_type": "stream",
     "text": [
      "1 Layer Two Error\n",
      "Average Expected Energy:  0.22884000000000002  Ground Probability:  1.736 %\n"
     ]
    }
   ],
   "source": [
    "e2_list = []\n",
    "g2_list = []\n",
    "\n",
    "for i in range(100):\n",
    "    e2_circuit=makeQAOA_1layer_noise(qubits, anc, H_p, optimal2[0], optimal2[1], 2)\n",
    "    e2_energy, g2_prob = expectHp(e1_circuit,qubits,H_p,ground_energy)\n",
    "    e2_list.append(e2_energy)\n",
    "    g2_list.append(g2_prob)\n",
    "\n",
    "print(\"1 Layer Two Error\\nAverage Expected Energy: \", np.average(np.array(e2_list)), \" Ground Probability: \", np.average(np.array(g2_list))*100,\"%\")"
   ]
  },
  {
   "cell_type": "markdown",
   "id": "ec047939",
   "metadata": {},
   "source": [
    "So yeah, the minimum energy gets worse. Notably, the probability of finding the ground state is only mildly correlated with the expected energy."
   ]
  },
  {
   "cell_type": "code",
   "execution_count": null,
   "id": "a1906a95",
   "metadata": {},
   "outputs": [],
   "source": []
  }
 ],
 "metadata": {
  "kernelspec": {
   "display_name": "Python 3",
   "language": "python",
   "name": "python3"
  },
  "language_info": {
   "codemirror_mode": {
    "name": "ipython",
    "version": 3
   },
   "file_extension": ".py",
   "mimetype": "text/x-python",
   "name": "python",
   "nbconvert_exporter": "python",
   "pygments_lexer": "ipython3",
   "version": "3.8.12"
  }
 },
 "nbformat": 4,
 "nbformat_minor": 5
}
