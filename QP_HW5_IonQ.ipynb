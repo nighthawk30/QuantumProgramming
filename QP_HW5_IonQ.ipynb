{
 "cells": [
  {
   "cell_type": "code",
   "execution_count": 1,
   "id": "716b5ef8",
   "metadata": {},
   "outputs": [],
   "source": [
    "#Quantum Programming Homework 5: QCA on IonQ Hardware\n",
    "#04/14/22\n",
    "#Nathan Taylor"
   ]
  },
  {
   "cell_type": "code",
   "execution_count": 2,
   "id": "9914db0f",
   "metadata": {},
   "outputs": [],
   "source": [
    "import cirq\n",
    "import cirq.ionq as ionq\n",
    "import matplotlib.pyplot as plt\n",
    "import numpy as np\n",
    "from cirq.contrib.svg import SVGCircuit, circuit_to_svg"
   ]
  },
  {
   "cell_type": "code",
   "execution_count": 3,
   "id": "be41bc23",
   "metadata": {},
   "outputs": [],
   "source": [
    "#Functions\n",
    "#Efficient gate scheduling\n",
    "def parallelCH(qubits):\n",
    "    ops = []\n",
    "    y1_mom = []\n",
    "    y2_mom = []\n",
    "    cx1_mom = []#CZ is not native in IONQ so we have to construct it from CNOT and Hadamards - which is lame\n",
    "    cx2_mom = []\n",
    "    y3_mom = []\n",
    "    h1_mom = []\n",
    "    h2_mom = []\n",
    "    \n",
    "    #even sites\n",
    "    for i in range(len(qubits)):\n",
    "        if i % 2 == 0:\n",
    "            y1_mom.append(cirq.ry(np.pi/4)(qubits[i]))\n",
    "            y2_mom.append(cirq.ry(-np.pi/4)(qubits[i]))\n",
    "            if i < len(qubits) - 1:\n",
    "                h1_mom.append(cirq.H(qubits[i+1]))\n",
    "                cx1_mom.append(cirq.CX(qubits[i],qubits[i+1]))\n",
    "        else:\n",
    "            y2_mom.append(cirq.ry(np.pi/4)(qubits[i]))\n",
    "            y3_mom.append(cirq.ry(-np.pi/4)(qubits[i]))\n",
    "            if i < len(qubits) - 1:\n",
    "                h2_mom.append(cirq.H(qubits[i+1]))\n",
    "                cx2_mom.append(cirq.CX(qubits[i],qubits[i+1]))          \n",
    "                \n",
    "    ops.append(y1_mom)\n",
    "    ops.append(h1_mom)\n",
    "    ops.append(cirq.Moment(cx1_mom))\n",
    "    ops.append(h1_mom)\n",
    "    ops.append(h2_mom)\n",
    "    ops.append(cirq.Moment(cx2_mom))\n",
    "    ops.append(h2_mom)\n",
    "    \n",
    "    ops.append(y2_mom)\n",
    "    \n",
    "    ops.append(h1_mom)\n",
    "    ops.append(cirq.Moment(cx1_mom))\n",
    "    ops.append(h1_mom)\n",
    "    ops.append(h2_mom)\n",
    "    ops.append(cirq.Moment(cx2_mom))\n",
    "    ops.append(h2_mom)\n",
    "    ops.append(y3_mom)\n",
    "    return ops\n",
    "\n",
    "#c) Evolve and Measure\n",
    "def simCircuit(oplist, counts):#Simulate the circuit\n",
    "    sim = cirq.Simulator()\n",
    "    circuit = cirq.Circuit(oplist)\n",
    "    sample = sim.run(circuit, repetitions=counts)\n",
    "    statelist = str(sample)[2:].split(\", \")#list of states for each qubit\n",
    "    \n",
    "    #format output\n",
    "    L = len(statelist)#number of qubits\n",
    "    state_dictionary = {}\n",
    "    for c in range(counts):\n",
    "        nstate = \"\"\n",
    "        for q in range(L):\n",
    "            nstate += str(statelist[q][c])\n",
    "        if nstate in state_dictionary:\n",
    "            state_dictionary[nstate] += 1\n",
    "        else:\n",
    "            state_dictionary[nstate] = 1\n",
    "    stateArray = np.zeros([0, 2])\n",
    "    for key, value in state_dictionary.items():\n",
    "        stateArray = np.append(stateArray, [np.array([key, str(value/counts)])], axis=0)\n",
    "    \n",
    "    return stateArray\n",
    "\n",
    "def ZExpectation(data):\n",
    "    L = len(data[0, 0])#number of qubits\n",
    "    z_avg = np.zeros(L)#list of averages\n",
    "    \n",
    "    for row in data:\n",
    "        for q in range(L):\n",
    "            z_avg[q] += float(row[0][q]) * float(row[1])#multiply each qubit by the probability the state appeared\n",
    "    return z_avg\n",
    "\n",
    "#e) Post-Selection\n",
    "def ZZEnergy(state):\n",
    "    zzenergy = 0\n",
    "    for i in range(len(state)-1):#qubit iterator dont go over the edge\n",
    "        if state[i] == state[i+1]:#adjacent qubits are in the same state\n",
    "            zzenergy += 1\n",
    "        else:\n",
    "            zzenergy += -1\n",
    "    return zzenergy\n",
    "\n",
    "def ZZPostSelection(data, initial_state):\n",
    "    renormalization = 0\n",
    "    selected_states = np.zeros([0, 2])\n",
    "    vInitial = '0' + initial_state + '0'\n",
    "    for row in data:\n",
    "        vCurrent = '0' + row[0] + '0'\n",
    "        if ZZEnergy(vInitial) == ZZEnergy(vCurrent):\n",
    "            selected_states = np.append(selected_states, [row], axis=0)\n",
    "            renormalization += float(row[1])\n",
    "\n",
    "    #Renormalize the states\n",
    "    for row in selected_states:\n",
    "        row[1] = str(float(row[1])/renormalization)\n",
    "    return selected_states"
   ]
  },
  {
   "cell_type": "code",
   "execution_count": 4,
   "id": "9857202d",
   "metadata": {},
   "outputs": [
    {
     "name": "stdout",
     "output_type": "stream",
     "text": [
      "Simulations\n"
     ]
    },
    {
     "data": {
      "text/plain": [
       "Text(0, 0.5, 'Qubit')"
      ]
     },
     "execution_count": 4,
     "metadata": {},
     "output_type": "execute_result"
    },
    {
     "data": {
      "image/png": "[encoded data removed]",
      "text/plain": [
       "<Figure size 1080x1080 with 3 Axes>"
      ]
     },
     "metadata": {
      "needs_background": "light"
     },
     "output_type": "display_data"
    }
   ],
   "source": [
    "#a) Simulations\n",
    "print(\"Simulations\")\n",
    "counts = 1000\n",
    "fig, axes = plt.subplots(1,3,figsize=(15,15))\n",
    "\n",
    "#7 qubits\n",
    "L = 7\n",
    "qubits = cirq.LineQubit.range(L)\n",
    "initial_state = \"0001000\"\n",
    "z7_matrix = np.zeros([0, L])\n",
    "\n",
    "for t in range(1,11):\n",
    "    pure_list = []\n",
    "    pure_list.append(cirq.X(qubits[3]))\n",
    "    for j in range(t):\n",
    "        pure_list.append(parallelCH(qubits))\n",
    "    pure_list.append(cirq.measure(*qubits, key='z'))\n",
    "    pure_avg = ZExpectation(simCircuit(pure_list, counts))\n",
    "    z7_matrix = np.append(z7_matrix, [pure_avg], axis=0)\n",
    "heat7 = np.transpose(z7_matrix)\n",
    "\n",
    "plt.subplot(1,3,1)\n",
    "plt.imshow(heat7, cmap='hot')\n",
    "plt.title(\"7 Qubits\")\n",
    "plt.xlabel(\"Time\")\n",
    "plt.ylabel(\"Qubit\")\n",
    "\n",
    "#9 qubits\n",
    "L = 9\n",
    "qubits = cirq.LineQubit.range(L)\n",
    "initial_state = \"000010000\"\n",
    "z9_matrix = np.zeros([0, L])\n",
    "\n",
    "for t in range(1,11):\n",
    "    pure_list = []\n",
    "    pure_list.append(cirq.X(qubits[4]))\n",
    "    for j in range(t):\n",
    "        pure_list.append(parallelCH(qubits))\n",
    "    pure_list.append(cirq.measure(*qubits, key='z'))\n",
    "    pure_avg = ZExpectation(simCircuit(pure_list, counts))\n",
    "    z9_matrix = np.append(z9_matrix, [pure_avg], axis=0)\n",
    "heat9 = np.transpose(z9_matrix)\n",
    "\n",
    "plt.subplot(1,3,2)\n",
    "plt.imshow(heat9, cmap='hot')\n",
    "plt.title(\"9 Qubits\")\n",
    "plt.xlabel(\"Time\")\n",
    "plt.ylabel(\"Qubit\")\n",
    "\n",
    "#11 qubits\n",
    "L = 11\n",
    "qubits = cirq.LineQubit.range(L)\n",
    "initial_state = \"00000100000\"\n",
    "z11_matrix = np.zeros([0, L])\n",
    "\n",
    "for t in range(1,31):\n",
    "    pure_list = []\n",
    "    pure_list.append(cirq.X(qubits[5]))\n",
    "    for j in range(t):\n",
    "        pure_list.append(parallelCH(qubits))\n",
    "    pure_list.append(cirq.measure(*qubits, key='z'))\n",
    "    pure_avg = ZExpectation(simCircuit(pure_list, counts))\n",
    "    z11_matrix = np.append(z11_matrix, [pure_avg], axis=0)\n",
    "heat11 = np.transpose(z11_matrix)\n",
    "\n",
    "plt.subplot(1,3,3)\n",
    "plt.imshow(heat11, cmap='hot')\n",
    "plt.title(\"11 Qubits\")\n",
    "plt.xlabel(\"Time\")\n",
    "plt.ylabel(\"Qubit\")"
   ]
  },
  {
   "cell_type": "code",
   "execution_count": 5,
   "id": "b786ea8b",
   "metadata": {},
   "outputs": [],
   "source": [
    "#b) The Real Deal: Quantum Hardware (same thing)\n",
    "#Add the circuit to the queue\n",
    "def ionQueue(oplist, counts):\n",
    "    service = ionq.Service()\n",
    "    circuit = cirq.Circuit(oplist)\n",
    "    job = service.create_job(circuit=circuit, repetitions=counts, target='qpu')\n",
    "    return job.job_id()\n",
    "\n",
    "#Have the circuits been run\n",
    "def jobsCompleted(jlist):\n",
    "    service = ionq.Service()\n",
    "    for jid in jlist:\n",
    "        monitor = service.get_job(jid)\n",
    "        if monitor.status() != 'completed':\n",
    "            return False\n",
    "    return True\n",
    "\n",
    "#Convert the direct data into something usable\n",
    "def ParseData(result):\n",
    "    #result is an nx2 matrix (each bit has a corresponding probabilty)\n",
    "    rlist = str(result).split(\"\\n\")\n",
    "    data = np.zeros([0,2])\n",
    "    for r in rlist:\n",
    "        dat = r.split(\": \")\n",
    "        data = np.append(data, [dat], axis=0)\n",
    "    return data"
   ]
  },
  {
   "cell_type": "code",
   "execution_count": 6,
   "id": "19173951",
   "metadata": {},
   "outputs": [
    {
     "ename": "SyntaxError",
     "evalue": "EOF while scanning triple-quoted string literal (<ipython-input-6-8370a5ea58b1>, line 41)",
     "output_type": "error",
     "traceback": [
      "\u001b[0;36m  File \u001b[0;32m\"<ipython-input-6-8370a5ea58b1>\"\u001b[0;36m, line \u001b[0;32m41\u001b[0m\n\u001b[0;31m    joblist.append(ionQueue(pure_list, counts))\u001b[0m\n\u001b[0m                                               \n^\u001b[0m\n\u001b[0;31mSyntaxError\u001b[0m\u001b[0;31m:\u001b[0m EOF while scanning triple-quoted string literal\n"
     ]
    }
   ],
   "source": [
    "#Add Jobs to the Queue - I need to stop running this code (I probably added about 120 extra jobs, oops)\n",
    "#Run with stacked version to compare now\n",
    "'''\n",
    "counts = 1000\n",
    "joblist = []\n",
    "\n",
    "#7 qubits\n",
    "L = 7\n",
    "qubits = cirq.LineQubit.range(L)\n",
    "\n",
    "for t in range(1,11):\n",
    "    pure_list = []\n",
    "    pure_list.append(cirq.X(qubits[3]))\n",
    "    for j in range(t):\n",
    "        pure_list.append(parallelCH(qubits))\n",
    "    pure_list.append(cirq.measure(*qubits, key='z'))\n",
    "    joblist.append(ionQueue(pure_list, counts))\n",
    "\n",
    "#9 qubits\n",
    "L = 9\n",
    "qubits = cirq.LineQubit.range(L)\n",
    "\n",
    "for t in range(1,11):\n",
    "    pure_list = []\n",
    "    pure_list.append(cirq.X(qubits[4]))\n",
    "    for j in range(t):\n",
    "        pure_list.append(parallelCH(qubits))\n",
    "    pure_list.append(cirq.measure(*qubits, key='z'))\n",
    "    joblist.append(ionQueue(pure_list, counts))\n",
    "    \n",
    "#11 qubits\n",
    "L = 11\n",
    "qubits = cirq.LineQubit.range(L)\n",
    "\n",
    "for t in range(1,11):\n",
    "    pure_list = []\n",
    "    pure_list.append(cirq.X(qubits[5]))\n",
    "    for j in range(t):\n",
    "        pure_list.append(parallelCH(qubits))\n",
    "    pure_list.append(cirq.measure(*qubits, key='z'))\n",
    "    joblist.append(ionQueue(pure_list, counts))"
   ]
  },
  {
   "cell_type": "code",
   "execution_count": 7,
   "id": "555ac73c",
   "metadata": {},
   "outputs": [
    {
     "name": "stdout",
     "output_type": "stream",
     "text": [
      "True\n"
     ]
    }
   ],
   "source": [
    "#Have the jobs been completed? Continue if this is true\n",
    "joblist = ['8ff15675-f022-49b7-9c0e-9504253a172f','b75f3c0f-d272-42a4-a070-73cf9ac66407','183c7a25-cb4f-4537-9478-12bdba1aedb9','ae2464c9-bb50-4c93-b07f-3343d0c847c9','37d34109-d0d4-4797-82d7-4b2c94a6008f','c0914a4b-d41d-426f-85ba-e575b5771a46','5562e53e-1379-4a24-9eea-8f8167e1c442','08cf46c5-f5bc-4e52-bf56-c2e79fa54255','21e927f3-d524-4c5e-9654-ed3e409bfa0e','d60ce8f0-111a-4b19-9fd4-50e502e9a42c','15faa226-77c2-4318-ad74-0a1ec202605d','677dc4d9-7502-4dee-a46b-9adea51035f5','7341a803-a50d-406f-8f11-3299d9fd86f3','9e795f00-2f37-4e4b-bb6e-fd3c36234a4b','6f339bb0-f55e-44c7-a030-e23222e13883','38753742-33a7-4f73-aee6-b24b9ca22bc2','b62e1d02-27ba-4d71-9e38-beefdaff41ec','4dd86824-8f88-4e6a-a94f-aed218ec01ad','15a8ae94-b592-4c20-bd66-f56eb48856ff','e3fa6e35-6ff2-4ea7-9293-b4872808eda9','f4766546-1bde-42a4-bfa3-4531afb244ca','2c4add64-450b-41bf-823b-c47c5db89c17','5496cfc5-2755-4f48-8d15-333f13a0278b','6a4f04c4-11f3-4161-ad2a-cd549d4a5995','ed5b8f65-2253-40f5-8a56-13c2a461f9cb','dea5a4ba-a4bc-4a87-bc84-c48a0debb1fd','8367b1df-124a-43ce-8b12-100e1e4c3e22','084824c1-15c3-4d9c-b323-cbf6452f795a','b88a731c-febf-441f-bf7d-472913c4e7f4','61ac76f0-a5fe-446f-91d3-f1a992d87baf']\n",
    "#joblist = ['b4604e50-f8b6-4ddc-8f08-1ed9b3fc8507', 'e428c28e-543c-4a7a-9e93-3c5610776499', 'd5ec5aed-305e-4e9d-aacb-41dc81804e74', '37dd4055-bc33-4648-bc47-6f1d3e6a1518', 'b755d91a-1aa8-4aae-a066-a6e7b4d79305', '1f1142a0-1156-49be-aee4-9bc83294b530', 'f166df98-1165-4da8-9957-a6a4b5ba31a6', '7b37fa95-8935-4b5c-ae67-c20894da8679', 'c2f0be77-978e-4e8e-983c-f8dcb1e7ed54', '4d97c491-a16f-420e-91fc-f514ef4990db', '4d632826-7bdc-4be3-954e-cf50058ddc39', '9b4e761a-435c-440d-abe0-8080d601d4f9', 'a2338ac5-4747-4b32-bfab-481a8b975361', '31f4a695-e518-44d1-b05c-a58ea1d4c34c', 'bb4d6a92-78f0-4a03-b455-887a1f2b9fcb', '9034b8a3-2b1c-46a4-b953-666da5a989bf', '68f93000-0bfc-45ba-89b8-14426d9e59de', '579191b0-8424-440f-9a77-2bd213890bd9', 'd23dded2-7f7e-48c8-a2c4-47753e2dfd1d', 'a923c190-e9f2-454b-98c6-6ee5e02b022e', '8330e684-d595-4370-a527-e3f283add169', '210093e0-d26b-476a-aa61-e487c5980943', 'cf07e501-74bb-4fae-b660-e4f6dbca5648', 'cd3e5cb8-1f03-4b9a-8c1e-7cac4b8d40ca', '871fe511-dc92-44a6-82b4-416c7e74f74f', 'ec1f0158-ded6-4c60-8f7a-8028a01c6615', 'f89dcf0f-46d2-433f-9c60-3792e67c8877', 'c69c3bdb-5c09-427c-9ac8-6a888df41c58', 'a38fd6ac-6b0d-41bf-9d04-bb54e1be8127', 'd6a2db11-ee2a-41b6-9dee-02c9e138d6e2']\n",
    "print(jobsCompleted(joblist))"
   ]
  },
  {
   "cell_type": "code",
   "execution_count": 8,
   "id": "08dd760d",
   "metadata": {},
   "outputs": [
    {
     "name": "stdout",
     "output_type": "stream",
     "text": [
      "Hardware\n"
     ]
    },
    {
     "data": {
      "text/plain": [
       "Text(0, 0.5, 'Qubit')"
      ]
     },
     "execution_count": 8,
     "metadata": {},
     "output_type": "execute_result"
    },
    {
     "data": {
      "image/png": "[encoded data removed]",
      "text/plain": [
       "<Figure size 1080x1080 with 3 Axes>"
      ]
     },
     "metadata": {
      "needs_background": "light"
     },
     "output_type": "display_data"
    }
   ],
   "source": [
    "#Plot the Data\n",
    "jindex = 0\n",
    "z7_map = np.zeros([0, 7])\n",
    "z9_map = np.zeros([0, 9])\n",
    "z11_map = np.zeros([0, 11])\n",
    "\n",
    "service = ionq.Service()\n",
    "for jid in joblist:\n",
    "    same_job = service.get_job(jid)\n",
    "    result = same_job.results()\n",
    "    q_avg = ZExpectation(ParseData(result))\n",
    "    \n",
    "    if jindex < 10:\n",
    "        z7_map = np.append(z7_map, [q_avg], axis=0)\n",
    "    elif jindex < 20:\n",
    "        z9_map = np.append(z9_map, [q_avg], axis=0)\n",
    "    else:\n",
    "        z11_map = np.append(z11_map, [q_avg], axis=0)\n",
    "    jindex += 1\n",
    "    \n",
    "print(\"Hardware\")\n",
    "fig, axes = plt.subplots(1,3,figsize=(15,15))\n",
    "\n",
    "plt.subplot(1,3,1)\n",
    "plt.imshow(np.transpose(z7_map), cmap='hot')\n",
    "plt.title(\"7 Qubits\")\n",
    "plt.xlabel(\"Time\")\n",
    "plt.ylabel(\"Qubit\")\n",
    "\n",
    "plt.subplot(1,3,2)\n",
    "plt.imshow(np.transpose(z9_map), cmap='hot')\n",
    "plt.title(\"9 Qubits\")\n",
    "plt.xlabel(\"Time\")\n",
    "plt.ylabel(\"Qubit\")\n",
    "\n",
    "plt.subplot(1,3,3)\n",
    "plt.imshow(np.transpose(z11_map), cmap='hot')\n",
    "plt.title(\"11 Qubits\")\n",
    "plt.xlabel(\"Time\")\n",
    "plt.ylabel(\"Qubit\")"
   ]
  },
  {
   "cell_type": "markdown",
   "id": "0bc1c8f7",
   "metadata": {},
   "source": [
    "This looks like hot trash. Quantum computers suck"
   ]
  },
  {
   "cell_type": "code",
   "execution_count": 9,
   "id": "1e0a7b5b",
   "metadata": {},
   "outputs": [
    {
     "name": "stdout",
     "output_type": "stream",
     "text": [
      "Post-Selected Data\n"
     ]
    },
    {
     "data": {
      "text/plain": [
       "Text(0, 0.5, 'Qubit')"
      ]
     },
     "execution_count": 9,
     "metadata": {},
     "output_type": "execute_result"
    },
    {
     "data": {
      "image/png": "[encoded data removed]",
      "text/plain": [
       "<Figure size 1080x1080 with 3 Axes>"
      ]
     },
     "metadata": {
      "needs_background": "light"
     },
     "output_type": "display_data"
    }
   ],
   "source": [
    "#c) Post-Selection\n",
    "jindex = 0\n",
    "z7_map = np.zeros([0, 7])\n",
    "init7 = \"0001000\"\n",
    "z9_map = np.zeros([0, 9])\n",
    "init9 = \"000010000\"\n",
    "z11_map = np.zeros([0, 11])\n",
    "init11 = \"00000100000\"\n",
    "\n",
    "service = ionq.Service()\n",
    "for jid in joblist:\n",
    "    same_job = service.get_job(jid)\n",
    "    result = same_job.results()\n",
    "    data = ParseData(result)\n",
    "    \n",
    "    if jindex < 10:\n",
    "        selected_data = ZZPostSelection(data, init7)\n",
    "        q_avg = ZExpectation(selected_data)\n",
    "        z7_map = np.append(z7_map, [q_avg], axis=0)\n",
    "    elif jindex < 20:\n",
    "        selected_data = ZZPostSelection(data, init9)\n",
    "        q_avg = ZExpectation(selected_data)\n",
    "        z9_map = np.append(z9_map, [q_avg], axis=0)\n",
    "    else:\n",
    "        selected_data = ZZPostSelection(data, init11)\n",
    "        q_avg = ZExpectation(selected_data)\n",
    "        z11_map = np.append(z11_map, [q_avg], axis=0)\n",
    "    jindex += 1\n",
    "    \n",
    "print(\"Post-Selected Data\")\n",
    "fig, axes = plt.subplots(1,3,figsize=(15,15))\n",
    "\n",
    "plt.subplot(1,3,1)\n",
    "plt.imshow(np.transpose(z7_map), cmap='hot')\n",
    "plt.title(\"7 Qubits\")\n",
    "plt.xlabel(\"Time\")\n",
    "plt.ylabel(\"Qubit\")\n",
    "\n",
    "plt.subplot(1,3,2)\n",
    "plt.imshow(np.transpose(z9_map), cmap='hot')\n",
    "plt.title(\"9 Qubits\")\n",
    "plt.xlabel(\"Time\")\n",
    "plt.ylabel(\"Qubit\")\n",
    "\n",
    "plt.subplot(1,3,3)\n",
    "plt.imshow(np.transpose(z11_map), cmap='hot')\n",
    "plt.title(\"11 Qubits\")\n",
    "plt.xlabel(\"Time\")\n",
    "plt.ylabel(\"Qubit\")"
   ]
  },
  {
   "cell_type": "markdown",
   "id": "7fd89244",
   "metadata": {},
   "source": [
    "This is marginally better, but still bad. It's essentially the equivalent of a 6% pauli error rate for every 2 qubit gate. In the simulations of gate error, the reflection pattern still came out at 1% errors and got a little better with post-selection. Here there's nothing at all. Post-selection may have helped but there is so much diffusion that its hard to tell."
   ]
  },
  {
   "cell_type": "code",
   "execution_count": null,
   "id": "505e4d21",
   "metadata": {},
   "outputs": [],
   "source": []
  }
 ],
 "metadata": {
  "kernelspec": {
   "display_name": "Python 3",
   "language": "python",
   "name": "python3"
  },
  "language_info": {
   "codemirror_mode": {
    "name": "ipython",
    "version": 3
   },
   "file_extension": ".py",
   "mimetype": "text/x-python",
   "name": "python",
   "nbconvert_exporter": "python",
   "pygments_lexer": "ipython3",
   "version": "3.8.13"
  }
 },
 "nbformat": 4,
 "nbformat_minor": 5
}
