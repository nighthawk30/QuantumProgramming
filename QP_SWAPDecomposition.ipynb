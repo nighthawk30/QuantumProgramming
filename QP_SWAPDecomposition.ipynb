{
 "cells": [
  {
   "cell_type": "code",
   "execution_count": 16,
   "id": "be2af531",
   "metadata": {},
   "outputs": [],
   "source": [
    "import cirq\n",
    "\n",
    "\"\"\"Define a custom two-qubit gate.\"\"\"\n",
    "class AnotherGate(cirq.Gate):\n",
    "    def __init__(self):\n",
    "        super(AnotherGate, self)\n",
    "\n",
    "    def _num_qubits_(self):\n",
    "        return 2\n",
    "\n",
    "    def _unitary_(self):\n",
    "        return np.array([\n",
    "            [1.0, 0.0, 0.0,  0.0],\n",
    "            [0.0,  1.0, 0.0,  0.0],\n",
    "            [0.0,  0.0, 1.0,  0.0],\n",
    "            [0.0,  0.0, 0.0, 1.0]\n",
    "        ]) / np.sqrt(2)\n",
    "\n",
    "    def _circuit_diagram_info_(self, args):\n",
    "        return \"U\", \"U\"\n",
    "\n",
    "U = AnotherGate()"
   ]
  },
  {
   "cell_type": "code",
   "execution_count": 22,
   "id": "05770c34",
   "metadata": {},
   "outputs": [
    {
     "name": "stdout",
     "output_type": "stream",
     "text": [
      "0: ───U───────×───────────────────────U───────────\n",
      "      │       │                       │\n",
      "1: ───U───U───×───×───U───────────×───U───U───────\n",
      "          │       │   │           │       │\n",
      "2: ───────U───U───×───U───U───×───×───────U───────\n",
      "              │           │   │\n",
      "3: ───────────U───U───×───U───×───────────────U───\n",
      "                  │   │                       │\n",
      "4: ───────────────U───×───────────────────────U───\n"
     ]
    }
   ],
   "source": [
    "#\n",
    "size = 5\n",
    "q = cirq.LineQubit.range(size)\n",
    "circuit=cirq.Circuit(U.on(q[0],q[1]))\n",
    "circuit.append(cirq.Circuit(U.on(q[1],q[2])))\n",
    "circuit.append(cirq.Circuit(U.on(q[2],q[3])))\n",
    "circuit.append(cirq.Circuit(U.on(q[3],q[4])))\n",
    "circuit.append(cirq.SWAP(q[0],q[1]))\n",
    "circuit.append(cirq.SWAP(q[1],q[2]))\n",
    "circuit.append(cirq.Circuit(U.on(q[1],q[2])))\n",
    "circuit.append(cirq.SWAP(q[3],q[4]))\n",
    "circuit.append(cirq.Circuit(U.on(q[2],q[3])))\n",
    "circuit.append(cirq.SWAP(q[2],q[3]))\n",
    "circuit.append(cirq.SWAP(q[1],q[2]))\n",
    "circuit.append(cirq.Circuit(U.on(q[0],q[1])))\n",
    "circuit.append(cirq.Circuit(U.on(q[1],q[2])))\n",
    "circuit.append(cirq.Circuit(U.on(q[3],q[4])))\n",
    "print(circuit)"
   ]
  },
  {
   "cell_type": "code",
   "execution_count": 24,
   "id": "ae76e362",
   "metadata": {},
   "outputs": [
    {
     "ename": "SyntaxError",
     "evalue": "invalid syntax (<ipython-input-24-21bb98e8b502>, line 2)",
     "output_type": "error",
     "traceback": [
      "\u001b[0;36m  File \u001b[0;32m\"<ipython-input-24-21bb98e8b502>\"\u001b[0;36m, line \u001b[0;32m2\u001b[0m\n\u001b[0;31m    rads: cirq.value.TParamVal\u001b[0m\n\u001b[0m        ^\u001b[0m\n\u001b[0;31mSyntaxError\u001b[0m\u001b[0;31m:\u001b[0m invalid syntax\n"
     ]
    }
   ],
   "source": [
    "cirq.ops.cphase(\n",
    "    rads: cirq.value.TParamVal\n",
    ") -> cirq.ops.CZPowGate\n",
    "c=cirq.LineQubit.range(2)\n",
    "print(Circuit(cirq.cphase(c[1],c[2]))"
   ]
  },
  {
   "cell_type": "code",
   "execution_count": null,
   "id": "50c86d2e",
   "metadata": {},
   "outputs": [],
   "source": []
  }
 ],
 "metadata": {
  "kernelspec": {
   "display_name": "Python 3",
   "language": "python",
   "name": "python3"
  },
  "language_info": {
   "codemirror_mode": {
    "name": "ipython",
    "version": 3
   },
   "file_extension": ".py",
   "mimetype": "text/x-python",
   "name": "python",
   "nbconvert_exporter": "python",
   "pygments_lexer": "ipython3",
   "version": "3.8.12"
  }
 },
 "nbformat": 4,
 "nbformat_minor": 5
}
