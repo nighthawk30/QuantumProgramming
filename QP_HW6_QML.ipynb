{
 "cells": [
  {
   "cell_type": "code",
   "execution_count": 1,
   "id": "c18e2550",
   "metadata": {},
   "outputs": [],
   "source": [
    "#Quantum Programming Homework 6: Bars and Stripes Classification\n",
    "#Nathan Taylor     #0 1    stripes: 0 0  1 1   bars:  1 0   0 1\n",
    "#05/05/22          #2 3             1 1  0 0          1 0   0 1\n",
    "import cirq\n",
    "import numpy as np\n",
    "import random"
   ]
  },
  {
   "cell_type": "code",
   "execution_count": 2,
   "id": "9876ec1b",
   "metadata": {},
   "outputs": [],
   "source": [
    "#a) Parameter Shift\n",
    "#Objective function: probability of finding 1\n",
    "def simCircuit(oplist, counts):#Simulate the circuit\n",
    "    sim = cirq.Simulator()\n",
    "    circuit = cirq.Circuit(oplist)\n",
    "    #print(circuit)\n",
    "    sample = sim.run(circuit, repetitions=counts)\n",
    "    statelist = str(sample)[2:].split(\", \")#list of states for each qubit\n",
    "    \n",
    "    #format output\n",
    "    L = len(statelist)#number of qubits\n",
    "    state_dictionary = {}\n",
    "    for c in range(counts):\n",
    "        nstate = \"\"\n",
    "        for q in range(L):\n",
    "            nstate += str(statelist[q][c])\n",
    "        if nstate in state_dictionary:\n",
    "            state_dictionary[nstate] += 1\n",
    "        else:\n",
    "            state_dictionary[nstate] = 1\n",
    "    stateArray = np.zeros([0, 2])\n",
    "    for key, value in state_dictionary.items():\n",
    "        stateArray = np.append(stateArray, [np.array([key, str(value/counts)])], axis=0)\n",
    "    \n",
    "    return stateArray\n",
    "\n",
    "def objFunction(data):#Zexpectation Value\n",
    "    L = len(data[0, 0])#number of qubits\n",
    "    z_avg = np.zeros(L)#list of averages\n",
    "    \n",
    "    for row in data:\n",
    "        for q in range(L):\n",
    "            z_avg[q] += float(row[0][q]) * float(row[1])#multiply each qubit by the probability the state appeared\n",
    "    return z_avg\n",
    "\n",
    "def rxGate(ang, qubits):\n",
    "    oplist = []\n",
    "    oplist.append(cirq.rx(ang)(qubits[0]))\n",
    "    oplist.append(cirq.measure(qubits[0]))\n",
    "    return objFunction(simCircuit(oplist, 1000))\n",
    "\n",
    "def singleShift(qubits, ang, count):\n",
    "    A = 0.1#parameter shift\n",
    "    F0 = rxGate(ang, qubits)[0]\n",
    "    FA = rxGate(ang + A, qubits)[0]\n",
    "    #print(\"F0:\", F0)\n",
    "    shiftAngle = ang + A*(FA-F0)\n",
    "    if F0 < 0.99 and count > 0:\n",
    "        count -= 1\n",
    "        singleShift(qubits, shiftAngle, count)\n",
    "    else:\n",
    "        print(\"Fidelity:\", F0)\n",
    "        print(\"Found Angle:\", ang)"
   ]
  },
  {
   "cell_type": "code",
   "execution_count": 3,
   "id": "f0d76402",
   "metadata": {},
   "outputs": [
    {
     "name": "stdout",
     "output_type": "stream",
     "text": [
      "Fidelity: 0.99\n",
      "Found Angle: 2.8489963267948903\n"
     ]
    }
   ],
   "source": [
    "qubits = cirq.LineQubit.range(4)\n",
    "anc = cirq.NamedQubit(\"A\")#0 for bars, 1 for stripes\n",
    "singleShift(qubits, np.pi/2, 10000)"
   ]
  },
  {
   "cell_type": "code",
   "execution_count": 4,
   "id": "0c937629",
   "metadata": {},
   "outputs": [],
   "source": [
    "#b) Parameterized Layers\n",
    "def encodeCircuit(alist, plist, qubits, anc):\n",
    "    gatelist = []\n",
    "    side = []\n",
    "    bars = [[1, 3], [0, 2]]\n",
    "    stripes = [[2, 3], [0, 1]]\n",
    "    \n",
    "    goal = 1#Goal is the target state of objective\n",
    "    choice = random.random()\n",
    "    if random.random() < 0.5:\n",
    "        side = random.choice(bars)\n",
    "        goal = 0\n",
    "    else:\n",
    "        side = random.choice(stripes)\n",
    "\n",
    "    #Initial Gates\n",
    "    for i in side:\n",
    "        gatelist.append(cirq.X(qubits[i]))\n",
    "        \n",
    "    #Single Qubit Rotations\n",
    "    gatelist.append(plist[0](alist[0])(qubits[0]))\n",
    "    gatelist.append(plist[1](alist[1])(qubits[1]))\n",
    "    gatelist.append(plist[2](alist[2])(qubits[2]))\n",
    "    gatelist.append(plist[3](alist[3])(qubits[3]))\n",
    "    gatelist.append(plist[4](alist[4])(anc))\n",
    "    \n",
    "    #Entangling Gates - these were not chosen randomly, this directly encodes the problem into the ancilla\n",
    "    #For the record, I came up with this idea and it is basically cheating\n",
    "    gatelist.append(cirq.CNOT(qubits[0], qubits[1]))\n",
    "    gatelist.append(cirq.CNOT(qubits[1], anc))#q1 is 0: 01 or 23, 1: 02 or 13s\n",
    "    #0 1  stripes: 0 0  1 1   bars:  1 0   0 1\n",
    "    #2 3           1 1  0 0          1 0   0 1\n",
    "    \n",
    "    #Readout Rotation\n",
    "    gatelist.append(plist[5](alist[5])(anc))\n",
    "    \n",
    "    gatelist.append(cirq.measure(anc, key = 'z'))\n",
    "    return objFunction(simCircuit(gatelist, 1000)), goal"
   ]
  },
  {
   "cell_type": "code",
   "execution_count": 5,
   "id": "e198b719",
   "metadata": {},
   "outputs": [
    {
     "name": "stdout",
     "output_type": "stream",
     "text": [
      "(array([0.12]), 1)\n"
     ]
    }
   ],
   "source": [
    "#generate gates and initial angles\n",
    "alist = np.zeros(6)\n",
    "plist = []\n",
    "for i in range(6):\n",
    "    plist.append(random.choice([cirq.ry, cirq.rx]))#error types\n",
    "    alist[i] = np.pi/random.randint(1, 21)\n",
    "\n",
    "print(encodeCircuit(alist, plist, qubits, anc))"
   ]
  },
  {
   "cell_type": "code",
   "execution_count": 6,
   "id": "314e900c",
   "metadata": {},
   "outputs": [],
   "source": [
    "#c) The whole enchilada\n",
    "def updateParameter(alist, plist, qubits, anc, rlim):\n",
    "    shift = 0.1\n",
    "    F0, goal = encodeCircuit(alist, plist, qubits, anc)\n",
    "    F0 = abs(1-goal-F0)#if goal is 1, we want F0 to be 1, if goal is 0, we want it to be 0\n",
    "    \n",
    "    #if goal:\n",
    "    #    print(\"Stripes F0:\", round(F0[0],3))\n",
    "    #else:\n",
    "    #    print(\"Bars F0:\", round(F0[0],3))\n",
    "    #print(\"F0:\", F0[0])\n",
    "        \n",
    "    FU = np.zeros(len(alist))#Were doing this for each angle separately I guess\n",
    "    for i in range(len(alist)):\n",
    "        temp_ang = np.copy(alist)\n",
    "        temp_ang[i] += shift\n",
    "        FU[i], gt = encodeCircuit(temp_ang, plist, qubits, anc)#the update circuit has the same initial state as F0\n",
    "        FU[i] = abs(1-gt-FU[i])\n",
    "    shiftedAngles = alist + shift*(FU-F0)#*rlim/1000#no idea about this step thing\n",
    "    if F0 < 0.999 and rlim > 0:\n",
    "        rlim -= 1\n",
    "        return updateParameter(shiftedAngles, plist, qubits, anc, rlim)\n",
    "    else:\n",
    "        print(\"Fidelity:\", F0)\n",
    "        print(\"Angles:\", alist)\n",
    "        return alist"
   ]
  },
  {
   "cell_type": "code",
   "execution_count": 7,
   "id": "20986d83",
   "metadata": {},
   "outputs": [
    {
     "name": "stdout",
     "output_type": "stream",
     "text": [
      "Fidelity: [0.999]\n",
      "Angles: [0.08699895 0.01804698 0.68801853 0.37326585 1.63846585 1.40133293]\n"
     ]
    }
   ],
   "source": [
    "angles = updateParameter(alist, plist, qubits, anc, 2000)"
   ]
  },
  {
   "cell_type": "code",
   "execution_count": 8,
   "id": "94bebec9",
   "metadata": {},
   "outputs": [],
   "source": [
    "#d) Bars or Stripes - Lets use it to check\n",
    "def printDiagram(state):\n",
    "    out = \"Qubits:\\n\"\n",
    "    for i in range(4):\n",
    "        if i in state: out += \"1 \"\n",
    "        else: out += \"0 \"\n",
    "        if i == 1: out += \"\\n\"\n",
    "    print(out)\n",
    "    \n",
    "def barsStripes(qubits):\n",
    "    gatelist = []\n",
    "    side = []\n",
    "    bars = [[1, 3], [0, 2]]\n",
    "    stripes = [[2, 3], [0, 1]]\n",
    "    \n",
    "    parity = True#Goal is the target state of objective\n",
    "    choice = random.random()\n",
    "    if random.random() < 0.5:\n",
    "        side = random.choice(bars)\n",
    "        parity = False\n",
    "    else:\n",
    "        side = random.choice(stripes)\n",
    "\n",
    "    printDiagram(side)\n",
    "    #Initial Gates\n",
    "    for i in side:\n",
    "        gatelist.append(cirq.X(qubits[i]))\n",
    "        \n",
    "    return gatelist, parity\n",
    "\n",
    "def mapParity(angles, gates, qubits, anc):\n",
    "    gatelist = []\n",
    "    #Single Qubit Rotations\n",
    "    gatelist.append(gates[0](angles[0])(qubits[0]))\n",
    "    gatelist.append(gates[1](angles[1])(qubits[1]))\n",
    "    gatelist.append(gates[2](angles[2])(qubits[2]))\n",
    "    gatelist.append(gates[3](angles[3])(qubits[3]))\n",
    "    gatelist.append(gates[4](angles[4])(anc))\n",
    "    \n",
    "    #Entangling Gates - these were not chosen randomly, this directly encodes the problem into the ancilla\n",
    "    #For the record, I came up with this idea and it is basically cheating\n",
    "    gatelist.append(cirq.CNOT(qubits[0], qubits[1]))\n",
    "    gatelist.append(cirq.CNOT(qubits[1], anc))#q1 is 0: 01 or 23, 1: 02 or 13s\n",
    "    #0 1  stripes: 0 0  1 1   bars:  1 0   0 1\n",
    "    #2 3           1 1  0 0          1 0   0 1\n",
    "    \n",
    "    #Readout Rotation\n",
    "    gatelist.append(gates[5](angles[5])(anc))\n",
    "    #Measure\n",
    "    gatelist.append(cirq.measure(anc, key = 'z'))\n",
    "    return gatelist\n",
    "\n",
    "def measureCircuit(gatelist):\n",
    "    sim = cirq.Simulator()\n",
    "    circuit = cirq.Circuit(gatelist)\n",
    "    sample = sim.run(circuit)\n",
    "    result = int(str(sample)[2])\n",
    "    return result"
   ]
  },
  {
   "cell_type": "code",
   "execution_count": 9,
   "id": "1820862d",
   "metadata": {},
   "outputs": [
    {
     "name": "stdout",
     "output_type": "stream",
     "text": [
      "Qubits:\n",
      "1 0 \n",
      "1 0 \n",
      "Prediction: Vertical\n",
      "\n",
      "Qubits:\n",
      "0 0 \n",
      "1 1 \n",
      "Prediction: Horizontal\n",
      "\n",
      "Qubits:\n",
      "0 1 \n",
      "0 1 \n",
      "Prediction: Vertical\n",
      "\n",
      "Qubits:\n",
      "1 1 \n",
      "0 0 \n",
      "Prediction: Horizontal\n",
      "\n",
      "Qubits:\n",
      "0 0 \n",
      "1 1 \n",
      "Prediction: Horizontal\n",
      "\n",
      "Qubits:\n",
      "1 1 \n",
      "0 0 \n",
      "Prediction: Horizontal\n",
      "\n"
     ]
    }
   ],
   "source": [
    "for i in range(6):\n",
    "    oplist, parity = barsStripes(qubits)\n",
    "    oplist.append(mapParity(angles, plist, qubits, anc))\n",
    "    predict = measureCircuit(oplist)\n",
    "\n",
    "    if predict == 1:\n",
    "        print(\"Prediction: Horizontal\\n\")\n",
    "    else:\n",
    "        print(\"Prediction: Vertical\\n\")"
   ]
  },
  {
   "cell_type": "code",
   "execution_count": null,
   "id": "46b29881",
   "metadata": {},
   "outputs": [],
   "source": []
  }
 ],
 "metadata": {
  "kernelspec": {
   "display_name": "Python 3",
   "language": "python",
   "name": "python3"
  },
  "language_info": {
   "codemirror_mode": {
    "name": "ipython",
    "version": 3
   },
   "file_extension": ".py",
   "mimetype": "text/x-python",
   "name": "python",
   "nbconvert_exporter": "python",
   "pygments_lexer": "ipython3",
   "version": "3.8.13"
  }
 },
 "nbformat": 4,
 "nbformat_minor": 5
}
