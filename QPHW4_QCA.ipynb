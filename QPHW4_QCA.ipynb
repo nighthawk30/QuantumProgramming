{
 "cells": [
  {
   "cell_type": "code",
   "execution_count": 1,
   "id": "e49cc4f6",
   "metadata": {},
   "outputs": [],
   "source": [
    "#Quantum Programming Homework 4: Quantum Cellular Automata and Post-Selection\n",
    "#Nathan Taylor\n",
    "#04/05/22"
   ]
  },
  {
   "cell_type": "code",
   "execution_count": 2,
   "id": "d034e5c9",
   "metadata": {},
   "outputs": [],
   "source": [
    "import cirq\n",
    "import matplotlib.pyplot as plt\n",
    "import numpy as np\n",
    "import random\n",
    "from cirq.contrib.svg import SVGCircuit, circuit_to_svg"
   ]
  },
  {
   "cell_type": "code",
   "execution_count": 3,
   "id": "9cee8c2d",
   "metadata": {},
   "outputs": [],
   "source": [
    "#Functions\n",
    "#a) Controlled Hadamards\n",
    "def fullCH(qt, qubits):\n",
    "    ops = []\n",
    "    #normal\n",
    "    if qt < len(qubits) - 1 and qt > 0:\n",
    "        ops.append(cirq.ry(np.pi/4)(qubits[qt]))\n",
    "        ops.append(cirq.CZ(qubits[qt], qubits[qt-1]))\n",
    "        ops.append(cirq.CZ(qubits[qt], qubits[qt+1]))\n",
    "        ops.append(cirq.ry(-np.pi/4)(qubits[qt]))\n",
    "    elif qt == len(qubits) - 1:#partial\n",
    "        ops.append(cirq.ry(np.pi/4)(qubits[qt]))\n",
    "        ops.append(cirq.CZ(qubits[qt], qubits[qt-1]))\n",
    "        ops.append(cirq.ry(-np.pi/4)(qubits[qt]))\n",
    "    elif qt == 0:\n",
    "        ops.append(cirq.ry(np.pi/4)(qubits[qt]))\n",
    "        ops.append(cirq.CZ(qubits[qt], qubits[qt+1]))\n",
    "        ops.append(cirq.ry(-np.pi/4)(qubits[qt]))\n",
    "    return ops\n",
    "\n",
    "#b) Gate layers for QCA - 2 methods\n",
    "#Poor gate scheduling\n",
    "def stackedCH(qubits):\n",
    "    ops = []\n",
    "    #split into 2 because even and odd bonds dont commute\n",
    "    for i in range(0, len(qubits), 2):\n",
    "        ops.append(fullCH(i, qubits))#really bad scheduling mate\n",
    "    for i in range(1, len(qubits), 2):\n",
    "        ops.append(fullCH(i, qubits))\n",
    "    return ops\n",
    "\n",
    "#Efficient gate scheduling\n",
    "def parallelCH(qubits):\n",
    "    ops = []\n",
    "    y1_mom = []\n",
    "    y2_mom = []\n",
    "    cz1_mom = []\n",
    "    cz2_mom = []\n",
    "    y3_mom = []\n",
    "    \n",
    "    #even sites\n",
    "    for i in range(len(qubits)):\n",
    "        if i % 2 == 0:\n",
    "            y1_mom.append(cirq.ry(np.pi/4)(qubits[i]))\n",
    "            y2_mom.append(cirq.ry(-np.pi/4)(qubits[i]))\n",
    "            if i < len(qubits) - 1:\n",
    "                cz1_mom.append(cirq.CZ(qubits[i],qubits[i+1]))\n",
    "        else:\n",
    "            y2_mom.append(cirq.ry(np.pi/4)(qubits[i]))\n",
    "            y3_mom.append(cirq.ry(-np.pi/4)(qubits[i]))\n",
    "            if i < len(qubits) - 1:\n",
    "                cz2_mom.append(cirq.CZ(qubits[i],qubits[i+1]))                \n",
    "                \n",
    "    ops.append(y1_mom)\n",
    "    ops.append(cirq.Moment(cz1_mom))\n",
    "    ops.append(cirq.Moment(cz2_mom))\n",
    "    ops.append(cirq.Moment(y2_mom))\n",
    "    ops.append(cirq.Moment(cz1_mom))\n",
    "    ops.append(cirq.Moment(cz2_mom))\n",
    "    ops.append(y3_mom)\n",
    "    return ops\n",
    "\n",
    "#c) Evolve and Measure\n",
    "def runCircuit(oplist, counts):#Run the circuit\n",
    "    sim = cirq.Simulator()\n",
    "    circuit = cirq.Circuit(oplist)\n",
    "    sample = sim.run(circuit, repetitions=counts)\n",
    "    statelist = str(sample)[2:].split(\", \")#list of states for each qubit\n",
    "    return statelist\n",
    "\n",
    "def ZExpectation(statelist):#Measure the Z expectation value of each qubit\n",
    "    L = len(statelist)#number of qubits\n",
    "    counts = len(statelist[0])\n",
    "    \n",
    "    z_count = np.zeros(L)\n",
    "    for q in range(L):#qubit iterator dont go over the edge\n",
    "        for c in range(counts):#each run\n",
    "            z_count[q] += int(statelist[q][c]) #add up the number of times each qubit was a 1\n",
    "            \n",
    "    z_avg = z_count / counts\n",
    "    return z_avg\n",
    "\n",
    "#d) Depolarizing Noise\n",
    "def noisy_moment(i, qubits, p):\n",
    "    op = []\n",
    "    pauli = [cirq.Z, cirq.Y, cirq.X]#error types\n",
    "    bits = [qubits[i], qubits[i+1]]\n",
    "    if random.random() < p:\n",
    "        err_qbit = random.choice(bits)\n",
    "        err_gate = random.choice(pauli)\n",
    "        op.append(err_gate(err_qbit))\n",
    "        #print(err_gate,err_qbit)\n",
    "    return op           \n",
    "\n",
    "def errorCH(qubits):\n",
    "    p = 0.01 # 1% error for each 2 qubit gate\n",
    "    ops = []\n",
    "    y1_mom = []\n",
    "    y2_mom = []\n",
    "    cz1_mom = []\n",
    "    cz2_mom = []\n",
    "    e1_mom=[]\n",
    "    e2_mom=[]\n",
    "    e3_mom=[]\n",
    "    e4_mom=[]\n",
    "    y3_mom = []\n",
    "    \n",
    "    #even/odd sites\n",
    "    for i in range(len(qubits)):\n",
    "        if i % 2 == 0:\n",
    "            y1_mom.append(cirq.ry(np.pi/4)(qubits[i]))\n",
    "            y2_mom.append(cirq.ry(-np.pi/4)(qubits[i]))\n",
    "            if i < len(qubits) - 1:\n",
    "                cz1_mom.append(cirq.CZ(qubits[i],qubits[i+1]))\n",
    "                e1_mom.append(noisy_moment(i, qubits, p))#add to error moment\n",
    "                e3_mom.append(noisy_moment(i, qubits, p))#add to error moment\n",
    "        else:\n",
    "            y2_mom.append(cirq.ry(np.pi/4)(qubits[i]))\n",
    "            y3_mom.append(cirq.ry(-np.pi/4)(qubits[i]))\n",
    "            if i < len(qubits) - 1:\n",
    "                cz2_mom.append(cirq.CZ(qubits[i],qubits[i+1]))\n",
    "                e2_mom.append(noisy_moment(i, qubits, p))#add to error moment\n",
    "                e4_mom.append(noisy_moment(i, qubits, p))#add to error moment\n",
    "    \n",
    "    ops.append(y1_mom)#even +y rotation\n",
    "    ops.append(cirq.Moment(cz1_mom))\n",
    "    ops.append(cirq.Moment(e1_mom))\n",
    "    ops.append(cirq.Moment(cz2_mom))\n",
    "    ops.append(cirq.Moment(e2_mom))\n",
    "    ops.append(cirq.Moment(y2_mom))\n",
    "    ops.append(cirq.Moment(cz1_mom))\n",
    "    ops.append(cirq.Moment(e3_mom))\n",
    "    ops.append(cirq.Moment(cz2_mom))\n",
    "    ops.append(cirq.Moment(e4_mom))\n",
    "    ops.append(y3_mom)\n",
    "    return ops\n",
    "\n",
    "#e) Post-Selection\n",
    "def ZZEnergy(state):\n",
    "    zzenergy = 0\n",
    "    for i in range(len(state)-1):#qubit iterator dont go over the edge\n",
    "        if state[i] == state[i+1]:#adjacent qubits are in the same state\n",
    "            zzenergy += 1\n",
    "        else:\n",
    "            zzenergy += -1\n",
    "    return zzenergy\n",
    "\n",
    "def ZPostSelect(statelist, initial_state):\n",
    "    L = len(statelist)#number of qubits\n",
    "    counts = len(statelist[0]) \n",
    "    \n",
    "    z_count = np.zeros(L)\n",
    "    good_state_count = 0\n",
    "    for c in range(counts):#each run\n",
    "        current_state = \"\"\n",
    "        for q in range(L):#reconstruct the readout states\n",
    "            current_state += statelist[q][c]\n",
    "\n",
    "        #The missing CZ gates on the boundaries act like there are qubits there in the 0 state\n",
    "        #These need to be counted in the conserved ZZ energy so here we add on 0s to the ends of our read states\n",
    "        virtual_state = \"0\" + current_state + \"0\"\n",
    "        virtual_init = \"0\" + initial_state + \"0\"\n",
    "        \n",
    "        #ZZEnergy is conserved by this algorithm so we can toss any state where it isn't the same\n",
    "        if ZZEnergy(virtual_state) == ZZEnergy(virtual_init):\n",
    "            good_state_count += 1\n",
    "            for q in range(L):\n",
    "                z_count[q] += int(statelist[q][c])\n",
    "\n",
    "    print(\"Valid States: \", good_state_count/counts*100, \"%\")\n",
    "    z_postavg = z_count / good_state_count\n",
    "    return z_postavg"
   ]
  },
  {
   "cell_type": "code",
   "execution_count": 4,
   "id": "29d6eee5",
   "metadata": {},
   "outputs": [
    {
     "name": "stderr",
     "output_type": "stream",
     "text": [
      "findfont: Font family ['Arial'] not found. Falling back to DejaVu Sans.\n"
     ]
    },
    {
     "data": {
      "image/svg+xml": [
       "<svg xmlns=\"http://www.w3.org/2000/svg\" width=\"415.43277343750003\" height=\"150.0\"><line x1=\"30.0\" x2=\"385.43277343750003\" y1=\"25.0\" y2=\"25.0\" stroke=\"#1967d2\" stroke-width=\"1\" /><line x1=\"30.0\" x2=\"385.43277343750003\" y1=\"75.0\" y2=\"75.0\" stroke=\"#1967d2\" stroke-width=\"1\" /><line x1=\"30.0\" x2=\"385.43277343750003\" y1=\"125.0\" y2=\"125.0\" stroke=\"#1967d2\" stroke-width=\"1\" /><line x1=\"185.19050781250002\" x2=\"185.19050781250002\" y1=\"25.0\" y2=\"75.0\" stroke=\"black\" stroke-width=\"3\" /><line x1=\"245.19050781250002\" x2=\"245.19050781250002\" y1=\"75.0\" y2=\"125.0\" stroke=\"black\" stroke-width=\"3\" /><rect x=\"10.0\" y=\"5.0\" width=\"40\" height=\"40\" stroke=\"black\" fill=\"white\" stroke-width=\"0\" /><text x=\"30.0\" y=\"25.0\" dominant-baseline=\"middle\" text-anchor=\"middle\" font-size=\"14px\" font-family=\"Arial\">0: </text><rect x=\"10.0\" y=\"55.0\" width=\"40\" height=\"40\" stroke=\"black\" fill=\"white\" stroke-width=\"0\" /><text x=\"30.0\" y=\"75.0\" dominant-baseline=\"middle\" text-anchor=\"middle\" font-size=\"14px\" font-family=\"Arial\">1: </text><rect x=\"10.0\" y=\"105.0\" width=\"40\" height=\"40\" stroke=\"black\" fill=\"white\" stroke-width=\"0\" /><text x=\"30.0\" y=\"125.0\" dominant-baseline=\"middle\" text-anchor=\"middle\" font-size=\"14px\" font-family=\"Arial\">2: </text><rect x=\"70.0\" y=\"55.0\" width=\"75.1905078125\" height=\"40\" stroke=\"black\" fill=\"white\" stroke-width=\"1\" /><text x=\"107.59525390625001\" y=\"75.0\" dominant-baseline=\"middle\" text-anchor=\"middle\" font-size=\"14px\" font-family=\"Arial\">Ry(0.25π)</text><circle cx=\"185.19050781250002\" cy=\"75.0\" r=\"10.0\" /><circle cx=\"185.19050781250002\" cy=\"25.0\" r=\"10.0\" /><circle cx=\"245.19050781250002\" cy=\"75.0\" r=\"10.0\" /><circle cx=\"245.19050781250002\" cy=\"125.0\" r=\"10.0\" /><rect x=\"285.1905078125\" y=\"55.0\" width=\"80.242265625\" height=\"40\" stroke=\"black\" fill=\"white\" stroke-width=\"1\" /><text x=\"325.311640625\" y=\"75.0\" dominant-baseline=\"middle\" text-anchor=\"middle\" font-size=\"14px\" font-family=\"Arial\">Ry(-0.25π)</text></svg>"
      ],
      "text/plain": [
       "<cirq.contrib.svg.svg.SVGCircuit at 0x7fdb33c86b80>"
      ]
     },
     "execution_count": 4,
     "metadata": {},
     "output_type": "execute_result"
    }
   ],
   "source": [
    "#a) Controlled Hadamards\n",
    "qline = cirq.LineQubit.range(3)\n",
    "Vlist = fullCH(1, qline)\n",
    "Vcir = cirq.Circuit(Vlist)\n",
    "SVGCircuit(Vcir)"
   ]
  },
  {
   "cell_type": "code",
   "execution_count": 5,
   "id": "a534e8fa",
   "metadata": {},
   "outputs": [
    {
     "name": "stdout",
     "output_type": "stream",
     "text": [
      "State of Adjacent Qubits, Readout Probability\n",
      "\t00\t\t Counter({0: 1000})\n",
      "\t01\t\t Counter({0: 522, 1: 478})\n",
      "\t10\t\t Counter({1: 529, 0: 471})\n",
      "\t11\t\t Counter({0: 1000})\n"
     ]
    }
   ],
   "source": [
    "#Test Cases to ensure it works\n",
    "#00, 11, 01, 10\n",
    "sim = cirq.Simulator()\n",
    "print(\"State of Adjacent Qubits, Readout Probability\")\n",
    "for i in range(2):\n",
    "    for j in range(2):\n",
    "        Vtest = []\n",
    "        if i:\n",
    "            Vtest.append(cirq.X(qline[0]))\n",
    "        if j:\n",
    "            Vtest.append(cirq.X(qline[2]))\n",
    "        Vtest.append(fullCH(1,qline))\n",
    "        Vtest.append(cirq.measure(qline[1], key='z'))\n",
    "        Vcircuit = cirq.Circuit(Vtest)\n",
    "        sample = sim.run(Vcircuit, repetitions=1000)\n",
    "        print(\"\\t\" + str(i)+str(j)+\"\\t\\t\", sample.histogram(key='z'))"
   ]
  },
  {
   "cell_type": "code",
   "execution_count": 6,
   "id": "a541e60a",
   "metadata": {},
   "outputs": [
    {
     "data": {
      "image/svg+xml": [
       "<svg xmlns=\"http://www.w3.org/2000/svg\" width=\"1111.350078125\" height=\"450.0\"><line x1=\"30.0\" x2=\"1081.350078125\" y1=\"25.0\" y2=\"25.0\" stroke=\"#1967d2\" stroke-width=\"1\" /><line x1=\"30.0\" x2=\"1081.350078125\" y1=\"75.0\" y2=\"75.0\" stroke=\"#1967d2\" stroke-width=\"1\" /><line x1=\"30.0\" x2=\"1081.350078125\" y1=\"125.0\" y2=\"125.0\" stroke=\"#1967d2\" stroke-width=\"1\" /><line x1=\"30.0\" x2=\"1081.350078125\" y1=\"175.0\" y2=\"175.0\" stroke=\"#1967d2\" stroke-width=\"1\" /><line x1=\"30.0\" x2=\"1081.350078125\" y1=\"225.0\" y2=\"225.0\" stroke=\"#1967d2\" stroke-width=\"1\" /><line x1=\"30.0\" x2=\"1081.350078125\" y1=\"275.0\" y2=\"275.0\" stroke=\"#1967d2\" stroke-width=\"1\" /><line x1=\"30.0\" x2=\"1081.350078125\" y1=\"325.0\" y2=\"325.0\" stroke=\"#1967d2\" stroke-width=\"1\" /><line x1=\"30.0\" x2=\"1081.350078125\" y1=\"375.0\" y2=\"375.0\" stroke=\"#1967d2\" stroke-width=\"1\" /><line x1=\"30.0\" x2=\"1081.350078125\" y1=\"425.0\" y2=\"425.0\" stroke=\"#1967d2\" stroke-width=\"1\" /><line x1=\"185.19050781250002\" x2=\"185.19050781250002\" y1=\"25.0\" y2=\"75.0\" stroke=\"black\" stroke-width=\"3\" /><line x1=\"185.19050781250002\" x2=\"185.19050781250002\" y1=\"125.0\" y2=\"175.0\" stroke=\"black\" stroke-width=\"3\" /><line x1=\"185.19050781250002\" x2=\"185.19050781250002\" y1=\"225.0\" y2=\"275.0\" stroke=\"black\" stroke-width=\"3\" /><line x1=\"185.19050781250002\" x2=\"185.19050781250002\" y1=\"325.0\" y2=\"375.0\" stroke=\"black\" stroke-width=\"3\" /><line x1=\"245.19050781250002\" x2=\"245.19050781250002\" y1=\"75.0\" y2=\"125.0\" stroke=\"black\" stroke-width=\"3\" /><line x1=\"245.19050781250002\" x2=\"245.19050781250002\" y1=\"175.0\" y2=\"225.0\" stroke=\"black\" stroke-width=\"3\" /><line x1=\"245.19050781250002\" x2=\"245.19050781250002\" y1=\"275.0\" y2=\"325.0\" stroke=\"black\" stroke-width=\"3\" /><line x1=\"245.19050781250002\" x2=\"245.19050781250002\" y1=\"375.0\" y2=\"425.0\" stroke=\"black\" stroke-width=\"3\" /><line x1=\"405.43277343750003\" x2=\"405.43277343750003\" y1=\"25.0\" y2=\"75.0\" stroke=\"black\" stroke-width=\"3\" /><line x1=\"405.43277343750003\" x2=\"405.43277343750003\" y1=\"125.0\" y2=\"175.0\" stroke=\"black\" stroke-width=\"3\" /><line x1=\"405.43277343750003\" x2=\"405.43277343750003\" y1=\"225.0\" y2=\"275.0\" stroke=\"black\" stroke-width=\"3\" /><line x1=\"405.43277343750003\" x2=\"405.43277343750003\" y1=\"325.0\" y2=\"375.0\" stroke=\"black\" stroke-width=\"3\" /><line x1=\"483.02802734375\" x2=\"483.02802734375\" y1=\"75.0\" y2=\"125.0\" stroke=\"black\" stroke-width=\"3\" /><line x1=\"483.02802734375\" x2=\"483.02802734375\" y1=\"175.0\" y2=\"225.0\" stroke=\"black\" stroke-width=\"3\" /><line x1=\"483.02802734375\" x2=\"483.02802734375\" y1=\"275.0\" y2=\"325.0\" stroke=\"black\" stroke-width=\"3\" /><line x1=\"483.02802734375\" x2=\"483.02802734375\" y1=\"375.0\" y2=\"425.0\" stroke=\"black\" stroke-width=\"3\" /><line x1=\"660.865546875\" x2=\"660.865546875\" y1=\"25.0\" y2=\"75.0\" stroke=\"black\" stroke-width=\"3\" /><line x1=\"660.865546875\" x2=\"660.865546875\" y1=\"125.0\" y2=\"175.0\" stroke=\"black\" stroke-width=\"3\" /><line x1=\"660.865546875\" x2=\"660.865546875\" y1=\"225.0\" y2=\"275.0\" stroke=\"black\" stroke-width=\"3\" /><line x1=\"660.865546875\" x2=\"660.865546875\" y1=\"325.0\" y2=\"375.0\" stroke=\"black\" stroke-width=\"3\" /><line x1=\"720.865546875\" x2=\"720.865546875\" y1=\"75.0\" y2=\"125.0\" stroke=\"black\" stroke-width=\"3\" /><line x1=\"720.865546875\" x2=\"720.865546875\" y1=\"175.0\" y2=\"225.0\" stroke=\"black\" stroke-width=\"3\" /><line x1=\"720.865546875\" x2=\"720.865546875\" y1=\"275.0\" y2=\"325.0\" stroke=\"black\" stroke-width=\"3\" /><line x1=\"720.865546875\" x2=\"720.865546875\" y1=\"375.0\" y2=\"425.0\" stroke=\"black\" stroke-width=\"3\" /><line x1=\"881.1078124999999\" x2=\"881.1078124999999\" y1=\"25.0\" y2=\"75.0\" stroke=\"black\" stroke-width=\"3\" /><line x1=\"881.1078124999999\" x2=\"881.1078124999999\" y1=\"125.0\" y2=\"175.0\" stroke=\"black\" stroke-width=\"3\" /><line x1=\"881.1078124999999\" x2=\"881.1078124999999\" y1=\"225.0\" y2=\"275.0\" stroke=\"black\" stroke-width=\"3\" /><line x1=\"881.1078124999999\" x2=\"881.1078124999999\" y1=\"325.0\" y2=\"375.0\" stroke=\"black\" stroke-width=\"3\" /><line x1=\"941.1078124999999\" x2=\"941.1078124999999\" y1=\"75.0\" y2=\"125.0\" stroke=\"black\" stroke-width=\"3\" /><line x1=\"941.1078124999999\" x2=\"941.1078124999999\" y1=\"175.0\" y2=\"225.0\" stroke=\"black\" stroke-width=\"3\" /><line x1=\"941.1078124999999\" x2=\"941.1078124999999\" y1=\"275.0\" y2=\"325.0\" stroke=\"black\" stroke-width=\"3\" /><line x1=\"941.1078124999999\" x2=\"941.1078124999999\" y1=\"375.0\" y2=\"425.0\" stroke=\"black\" stroke-width=\"3\" /><rect x=\"10.0\" y=\"5.0\" width=\"40\" height=\"40\" stroke=\"black\" fill=\"white\" stroke-width=\"0\" /><text x=\"30.0\" y=\"25.0\" dominant-baseline=\"middle\" text-anchor=\"middle\" font-size=\"14px\" font-family=\"Arial\">0: </text><rect x=\"10.0\" y=\"55.0\" width=\"40\" height=\"40\" stroke=\"black\" fill=\"white\" stroke-width=\"0\" /><text x=\"30.0\" y=\"75.0\" dominant-baseline=\"middle\" text-anchor=\"middle\" font-size=\"14px\" font-family=\"Arial\">1: </text><rect x=\"10.0\" y=\"105.0\" width=\"40\" height=\"40\" stroke=\"black\" fill=\"white\" stroke-width=\"0\" /><text x=\"30.0\" y=\"125.0\" dominant-baseline=\"middle\" text-anchor=\"middle\" font-size=\"14px\" font-family=\"Arial\">2: </text><rect x=\"10.0\" y=\"155.0\" width=\"40\" height=\"40\" stroke=\"black\" fill=\"white\" stroke-width=\"0\" /><text x=\"30.0\" y=\"175.0\" dominant-baseline=\"middle\" text-anchor=\"middle\" font-size=\"14px\" font-family=\"Arial\">3: </text><rect x=\"10.0\" y=\"205.0\" width=\"40\" height=\"40\" stroke=\"black\" fill=\"white\" stroke-width=\"0\" /><text x=\"30.0\" y=\"225.0\" dominant-baseline=\"middle\" text-anchor=\"middle\" font-size=\"14px\" font-family=\"Arial\">4: </text><rect x=\"10.0\" y=\"255.0\" width=\"40\" height=\"40\" stroke=\"black\" fill=\"white\" stroke-width=\"0\" /><text x=\"30.0\" y=\"275.0\" dominant-baseline=\"middle\" text-anchor=\"middle\" font-size=\"14px\" font-family=\"Arial\">5: </text><rect x=\"10.0\" y=\"305.0\" width=\"40\" height=\"40\" stroke=\"black\" fill=\"white\" stroke-width=\"0\" /><text x=\"30.0\" y=\"325.0\" dominant-baseline=\"middle\" text-anchor=\"middle\" font-size=\"14px\" font-family=\"Arial\">6: </text><rect x=\"10.0\" y=\"355.0\" width=\"40\" height=\"40\" stroke=\"black\" fill=\"white\" stroke-width=\"0\" /><text x=\"30.0\" y=\"375.0\" dominant-baseline=\"middle\" text-anchor=\"middle\" font-size=\"14px\" font-family=\"Arial\">7: </text><rect x=\"10.0\" y=\"405.0\" width=\"40\" height=\"40\" stroke=\"black\" fill=\"white\" stroke-width=\"0\" /><text x=\"30.0\" y=\"425.0\" dominant-baseline=\"middle\" text-anchor=\"middle\" font-size=\"14px\" font-family=\"Arial\">8: </text><rect x=\"70.0\" y=\"5.0\" width=\"75.1905078125\" height=\"40\" stroke=\"black\" fill=\"white\" stroke-width=\"1\" /><text x=\"107.59525390625001\" y=\"25.0\" dominant-baseline=\"middle\" text-anchor=\"middle\" font-size=\"14px\" font-family=\"Arial\">Ry(0.25π)</text><rect x=\"70.0\" y=\"105.0\" width=\"75.1905078125\" height=\"40\" stroke=\"black\" fill=\"white\" stroke-width=\"1\" /><text x=\"107.59525390625001\" y=\"125.0\" dominant-baseline=\"middle\" text-anchor=\"middle\" font-size=\"14px\" font-family=\"Arial\">Ry(0.25π)</text><rect x=\"70.0\" y=\"205.0\" width=\"75.1905078125\" height=\"40\" stroke=\"black\" fill=\"white\" stroke-width=\"1\" /><text x=\"107.59525390625001\" y=\"225.0\" dominant-baseline=\"middle\" text-anchor=\"middle\" font-size=\"14px\" font-family=\"Arial\">Ry(0.25π)</text><rect x=\"70.0\" y=\"305.0\" width=\"75.1905078125\" height=\"40\" stroke=\"black\" fill=\"white\" stroke-width=\"1\" /><text x=\"107.59525390625001\" y=\"325.0\" dominant-baseline=\"middle\" text-anchor=\"middle\" font-size=\"14px\" font-family=\"Arial\">Ry(0.25π)</text><rect x=\"70.0\" y=\"405.0\" width=\"75.1905078125\" height=\"40\" stroke=\"black\" fill=\"white\" stroke-width=\"1\" /><text x=\"107.59525390625001\" y=\"425.0\" dominant-baseline=\"middle\" text-anchor=\"middle\" font-size=\"14px\" font-family=\"Arial\">Ry(0.25π)</text><circle cx=\"185.19050781250002\" cy=\"25.0\" r=\"10.0\" /><circle cx=\"185.19050781250002\" cy=\"75.0\" r=\"10.0\" /><circle cx=\"185.19050781250002\" cy=\"125.0\" r=\"10.0\" /><circle cx=\"185.19050781250002\" cy=\"175.0\" r=\"10.0\" /><circle cx=\"185.19050781250002\" cy=\"225.0\" r=\"10.0\" /><circle cx=\"185.19050781250002\" cy=\"275.0\" r=\"10.0\" /><circle cx=\"185.19050781250002\" cy=\"325.0\" r=\"10.0\" /><circle cx=\"185.19050781250002\" cy=\"375.0\" r=\"10.0\" /><circle cx=\"245.19050781250002\" cy=\"75.0\" r=\"10.0\" /><circle cx=\"245.19050781250002\" cy=\"125.0\" r=\"10.0\" /><circle cx=\"245.19050781250002\" cy=\"175.0\" r=\"10.0\" /><circle cx=\"245.19050781250002\" cy=\"225.0\" r=\"10.0\" /><circle cx=\"245.19050781250002\" cy=\"275.0\" r=\"10.0\" /><circle cx=\"245.19050781250002\" cy=\"325.0\" r=\"10.0\" /><circle cx=\"245.19050781250002\" cy=\"375.0\" r=\"10.0\" /><circle cx=\"245.19050781250002\" cy=\"425.0\" r=\"10.0\" /><rect x=\"285.1905078125\" y=\"5.0\" width=\"80.242265625\" height=\"40\" stroke=\"black\" fill=\"white\" stroke-width=\"1\" /><text x=\"325.311640625\" y=\"25.0\" dominant-baseline=\"middle\" text-anchor=\"middle\" font-size=\"14px\" font-family=\"Arial\">Ry(-0.25π)</text><rect x=\"285.1905078125\" y=\"55.0\" width=\"80.242265625\" height=\"40\" stroke=\"black\" fill=\"white\" stroke-width=\"1\" /><text x=\"325.311640625\" y=\"75.0\" dominant-baseline=\"middle\" text-anchor=\"middle\" font-size=\"14px\" font-family=\"Arial\">Ry(0.25π)</text><rect x=\"285.1905078125\" y=\"105.0\" width=\"80.242265625\" height=\"40\" stroke=\"black\" fill=\"white\" stroke-width=\"1\" /><text x=\"325.311640625\" y=\"125.0\" dominant-baseline=\"middle\" text-anchor=\"middle\" font-size=\"14px\" font-family=\"Arial\">Ry(-0.25π)</text><rect x=\"285.1905078125\" y=\"155.0\" width=\"80.242265625\" height=\"40\" stroke=\"black\" fill=\"white\" stroke-width=\"1\" /><text x=\"325.311640625\" y=\"175.0\" dominant-baseline=\"middle\" text-anchor=\"middle\" font-size=\"14px\" font-family=\"Arial\">Ry(0.25π)</text><rect x=\"285.1905078125\" y=\"205.0\" width=\"80.242265625\" height=\"40\" stroke=\"black\" fill=\"white\" stroke-width=\"1\" /><text x=\"325.311640625\" y=\"225.0\" dominant-baseline=\"middle\" text-anchor=\"middle\" font-size=\"14px\" font-family=\"Arial\">Ry(-0.25π)</text><rect x=\"285.1905078125\" y=\"255.0\" width=\"80.242265625\" height=\"40\" stroke=\"black\" fill=\"white\" stroke-width=\"1\" /><text x=\"325.311640625\" y=\"275.0\" dominant-baseline=\"middle\" text-anchor=\"middle\" font-size=\"14px\" font-family=\"Arial\">Ry(0.25π)</text><rect x=\"285.1905078125\" y=\"305.0\" width=\"80.242265625\" height=\"40\" stroke=\"black\" fill=\"white\" stroke-width=\"1\" /><text x=\"325.311640625\" y=\"325.0\" dominant-baseline=\"middle\" text-anchor=\"middle\" font-size=\"14px\" font-family=\"Arial\">Ry(-0.25π)</text><rect x=\"285.1905078125\" y=\"355.0\" width=\"80.242265625\" height=\"40\" stroke=\"black\" fill=\"white\" stroke-width=\"1\" /><text x=\"325.311640625\" y=\"375.0\" dominant-baseline=\"middle\" text-anchor=\"middle\" font-size=\"14px\" font-family=\"Arial\">Ry(0.25π)</text><rect x=\"285.1905078125\" y=\"405.0\" width=\"80.242265625\" height=\"40\" stroke=\"black\" fill=\"white\" stroke-width=\"1\" /><text x=\"325.311640625\" y=\"425.0\" dominant-baseline=\"middle\" text-anchor=\"middle\" font-size=\"14px\" font-family=\"Arial\">Ry(-0.25π)</text><circle cx=\"405.43277343750003\" cy=\"25.0\" r=\"10.0\" /><circle cx=\"405.43277343750003\" cy=\"75.0\" r=\"10.0\" /><circle cx=\"405.43277343750003\" cy=\"125.0\" r=\"10.0\" /><circle cx=\"405.43277343750003\" cy=\"175.0\" r=\"10.0\" /><circle cx=\"405.43277343750003\" cy=\"225.0\" r=\"10.0\" /><circle cx=\"405.43277343750003\" cy=\"275.0\" r=\"10.0\" /><circle cx=\"405.43277343750003\" cy=\"325.0\" r=\"10.0\" /><circle cx=\"405.43277343750003\" cy=\"375.0\" r=\"10.0\" /><circle cx=\"483.02802734375\" cy=\"75.0\" r=\"10.0\" /><circle cx=\"483.02802734375\" cy=\"125.0\" r=\"10.0\" /><circle cx=\"483.02802734375\" cy=\"175.0\" r=\"10.0\" /><circle cx=\"483.02802734375\" cy=\"225.0\" r=\"10.0\" /><circle cx=\"483.02802734375\" cy=\"275.0\" r=\"10.0\" /><circle cx=\"483.02802734375\" cy=\"325.0\" r=\"10.0\" /><circle cx=\"483.02802734375\" cy=\"375.0\" r=\"10.0\" /><circle cx=\"483.02802734375\" cy=\"425.0\" r=\"10.0\" /><rect x=\"445.43277343750003\" y=\"5.0\" width=\"75.1905078125\" height=\"40\" stroke=\"black\" fill=\"white\" stroke-width=\"1\" /><text x=\"483.02802734375\" y=\"25.0\" dominant-baseline=\"middle\" text-anchor=\"middle\" font-size=\"14px\" font-family=\"Arial\">Ry(0.25π)</text><rect x=\"540.62328125\" y=\"55.0\" width=\"80.242265625\" height=\"40\" stroke=\"black\" fill=\"white\" stroke-width=\"1\" /><text x=\"580.7444140625\" y=\"75.0\" dominant-baseline=\"middle\" text-anchor=\"middle\" font-size=\"14px\" font-family=\"Arial\">Ry(-0.25π)</text><rect x=\"540.62328125\" y=\"155.0\" width=\"80.242265625\" height=\"40\" stroke=\"black\" fill=\"white\" stroke-width=\"1\" /><text x=\"580.7444140625\" y=\"175.0\" dominant-baseline=\"middle\" text-anchor=\"middle\" font-size=\"14px\" font-family=\"Arial\">Ry(-0.25π)</text><rect x=\"540.62328125\" y=\"255.0\" width=\"80.242265625\" height=\"40\" stroke=\"black\" fill=\"white\" stroke-width=\"1\" /><text x=\"580.7444140625\" y=\"275.0\" dominant-baseline=\"middle\" text-anchor=\"middle\" font-size=\"14px\" font-family=\"Arial\">Ry(-0.25π)</text><rect x=\"540.62328125\" y=\"355.0\" width=\"80.242265625\" height=\"40\" stroke=\"black\" fill=\"white\" stroke-width=\"1\" /><text x=\"580.7444140625\" y=\"375.0\" dominant-baseline=\"middle\" text-anchor=\"middle\" font-size=\"14px\" font-family=\"Arial\">Ry(-0.25π)</text><rect x=\"540.62328125\" y=\"105.0\" width=\"80.242265625\" height=\"40\" stroke=\"black\" fill=\"white\" stroke-width=\"1\" /><text x=\"580.7444140625\" y=\"125.0\" dominant-baseline=\"middle\" text-anchor=\"middle\" font-size=\"14px\" font-family=\"Arial\">Ry(0.25π)</text><rect x=\"540.62328125\" y=\"205.0\" width=\"80.242265625\" height=\"40\" stroke=\"black\" fill=\"white\" stroke-width=\"1\" /><text x=\"580.7444140625\" y=\"225.0\" dominant-baseline=\"middle\" text-anchor=\"middle\" font-size=\"14px\" font-family=\"Arial\">Ry(0.25π)</text><rect x=\"540.62328125\" y=\"305.0\" width=\"80.242265625\" height=\"40\" stroke=\"black\" fill=\"white\" stroke-width=\"1\" /><text x=\"580.7444140625\" y=\"325.0\" dominant-baseline=\"middle\" text-anchor=\"middle\" font-size=\"14px\" font-family=\"Arial\">Ry(0.25π)</text><rect x=\"540.62328125\" y=\"405.0\" width=\"80.242265625\" height=\"40\" stroke=\"black\" fill=\"white\" stroke-width=\"1\" /><text x=\"580.7444140625\" y=\"425.0\" dominant-baseline=\"middle\" text-anchor=\"middle\" font-size=\"14px\" font-family=\"Arial\">Ry(0.25π)</text><circle cx=\"660.865546875\" cy=\"25.0\" r=\"10.0\" /><circle cx=\"660.865546875\" cy=\"75.0\" r=\"10.0\" /><circle cx=\"660.865546875\" cy=\"125.0\" r=\"10.0\" /><circle cx=\"660.865546875\" cy=\"175.0\" r=\"10.0\" /><circle cx=\"660.865546875\" cy=\"225.0\" r=\"10.0\" /><circle cx=\"660.865546875\" cy=\"275.0\" r=\"10.0\" /><circle cx=\"660.865546875\" cy=\"325.0\" r=\"10.0\" /><circle cx=\"660.865546875\" cy=\"375.0\" r=\"10.0\" /><circle cx=\"720.865546875\" cy=\"75.0\" r=\"10.0\" /><circle cx=\"720.865546875\" cy=\"125.0\" r=\"10.0\" /><circle cx=\"720.865546875\" cy=\"175.0\" r=\"10.0\" /><circle cx=\"720.865546875\" cy=\"225.0\" r=\"10.0\" /><circle cx=\"720.865546875\" cy=\"275.0\" r=\"10.0\" /><circle cx=\"720.865546875\" cy=\"325.0\" r=\"10.0\" /><circle cx=\"720.865546875\" cy=\"375.0\" r=\"10.0\" /><circle cx=\"720.865546875\" cy=\"425.0\" r=\"10.0\" /><rect x=\"760.865546875\" y=\"5.0\" width=\"80.242265625\" height=\"40\" stroke=\"black\" fill=\"white\" stroke-width=\"1\" /><text x=\"800.9866796875\" y=\"25.0\" dominant-baseline=\"middle\" text-anchor=\"middle\" font-size=\"14px\" font-family=\"Arial\">Ry(-0.25π)</text><rect x=\"760.865546875\" y=\"55.0\" width=\"80.242265625\" height=\"40\" stroke=\"black\" fill=\"white\" stroke-width=\"1\" /><text x=\"800.9866796875\" y=\"75.0\" dominant-baseline=\"middle\" text-anchor=\"middle\" font-size=\"14px\" font-family=\"Arial\">Ry(0.25π)</text><rect x=\"760.865546875\" y=\"105.0\" width=\"80.242265625\" height=\"40\" stroke=\"black\" fill=\"white\" stroke-width=\"1\" /><text x=\"800.9866796875\" y=\"125.0\" dominant-baseline=\"middle\" text-anchor=\"middle\" font-size=\"14px\" font-family=\"Arial\">Ry(-0.25π)</text><rect x=\"760.865546875\" y=\"155.0\" width=\"80.242265625\" height=\"40\" stroke=\"black\" fill=\"white\" stroke-width=\"1\" /><text x=\"800.9866796875\" y=\"175.0\" dominant-baseline=\"middle\" text-anchor=\"middle\" font-size=\"14px\" font-family=\"Arial\">Ry(0.25π)</text><rect x=\"760.865546875\" y=\"205.0\" width=\"80.242265625\" height=\"40\" stroke=\"black\" fill=\"white\" stroke-width=\"1\" /><text x=\"800.9866796875\" y=\"225.0\" dominant-baseline=\"middle\" text-anchor=\"middle\" font-size=\"14px\" font-family=\"Arial\">Ry(-0.25π)</text><rect x=\"760.865546875\" y=\"255.0\" width=\"80.242265625\" height=\"40\" stroke=\"black\" fill=\"white\" stroke-width=\"1\" /><text x=\"800.9866796875\" y=\"275.0\" dominant-baseline=\"middle\" text-anchor=\"middle\" font-size=\"14px\" font-family=\"Arial\">Ry(0.25π)</text><rect x=\"760.865546875\" y=\"305.0\" width=\"80.242265625\" height=\"40\" stroke=\"black\" fill=\"white\" stroke-width=\"1\" /><text x=\"800.9866796875\" y=\"325.0\" dominant-baseline=\"middle\" text-anchor=\"middle\" font-size=\"14px\" font-family=\"Arial\">Ry(-0.25π)</text><rect x=\"760.865546875\" y=\"355.0\" width=\"80.242265625\" height=\"40\" stroke=\"black\" fill=\"white\" stroke-width=\"1\" /><text x=\"800.9866796875\" y=\"375.0\" dominant-baseline=\"middle\" text-anchor=\"middle\" font-size=\"14px\" font-family=\"Arial\">Ry(0.25π)</text><rect x=\"760.865546875\" y=\"405.0\" width=\"80.242265625\" height=\"40\" stroke=\"black\" fill=\"white\" stroke-width=\"1\" /><text x=\"800.9866796875\" y=\"425.0\" dominant-baseline=\"middle\" text-anchor=\"middle\" font-size=\"14px\" font-family=\"Arial\">Ry(-0.25π)</text><circle cx=\"881.1078124999999\" cy=\"25.0\" r=\"10.0\" /><circle cx=\"881.1078124999999\" cy=\"75.0\" r=\"10.0\" /><circle cx=\"881.1078124999999\" cy=\"125.0\" r=\"10.0\" /><circle cx=\"881.1078124999999\" cy=\"175.0\" r=\"10.0\" /><circle cx=\"881.1078124999999\" cy=\"225.0\" r=\"10.0\" /><circle cx=\"881.1078124999999\" cy=\"275.0\" r=\"10.0\" /><circle cx=\"881.1078124999999\" cy=\"325.0\" r=\"10.0\" /><circle cx=\"881.1078124999999\" cy=\"375.0\" r=\"10.0\" /><circle cx=\"941.1078124999999\" cy=\"75.0\" r=\"10.0\" /><circle cx=\"941.1078124999999\" cy=\"125.0\" r=\"10.0\" /><circle cx=\"941.1078124999999\" cy=\"175.0\" r=\"10.0\" /><circle cx=\"941.1078124999999\" cy=\"225.0\" r=\"10.0\" /><circle cx=\"941.1078124999999\" cy=\"275.0\" r=\"10.0\" /><circle cx=\"941.1078124999999\" cy=\"325.0\" r=\"10.0\" /><circle cx=\"941.1078124999999\" cy=\"375.0\" r=\"10.0\" /><circle cx=\"941.1078124999999\" cy=\"425.0\" r=\"10.0\" /><rect x=\"981.1078124999999\" y=\"55.0\" width=\"80.242265625\" height=\"40\" stroke=\"black\" fill=\"white\" stroke-width=\"1\" /><text x=\"1021.2289453125\" y=\"75.0\" dominant-baseline=\"middle\" text-anchor=\"middle\" font-size=\"14px\" font-family=\"Arial\">Ry(-0.25π)</text><rect x=\"981.1078124999999\" y=\"155.0\" width=\"80.242265625\" height=\"40\" stroke=\"black\" fill=\"white\" stroke-width=\"1\" /><text x=\"1021.2289453125\" y=\"175.0\" dominant-baseline=\"middle\" text-anchor=\"middle\" font-size=\"14px\" font-family=\"Arial\">Ry(-0.25π)</text><rect x=\"981.1078124999999\" y=\"255.0\" width=\"80.242265625\" height=\"40\" stroke=\"black\" fill=\"white\" stroke-width=\"1\" /><text x=\"1021.2289453125\" y=\"275.0\" dominant-baseline=\"middle\" text-anchor=\"middle\" font-size=\"14px\" font-family=\"Arial\">Ry(-0.25π)</text><rect x=\"981.1078124999999\" y=\"355.0\" width=\"80.242265625\" height=\"40\" stroke=\"black\" fill=\"white\" stroke-width=\"1\" /><text x=\"1021.2289453125\" y=\"375.0\" dominant-baseline=\"middle\" text-anchor=\"middle\" font-size=\"14px\" font-family=\"Arial\">Ry(-0.25π)</text></svg>"
      ],
      "text/plain": [
       "<cirq.contrib.svg.svg.SVGCircuit at 0x7fdb33cfdbb0>"
      ]
     },
     "execution_count": 6,
     "metadata": {},
     "output_type": "execute_result"
    }
   ],
   "source": [
    "#b) Gate layers for QCA - 2 methods\n",
    "L=9\n",
    "qubits = cirq.LineQubit.range(L)\n",
    "layertest = []\n",
    "for i in range(2): layertest.append(parallelCH(qubits))\n",
    "SVGCircuit(cirq.Circuit(layertest))"
   ]
  },
  {
   "cell_type": "markdown",
   "id": "d53cea44",
   "metadata": {},
   "source": [
    "Were are plotting the probability of each state having a particle in it, not the probability of a particle being in each state. The total probability of a particle being in all locations must be 1. The total probability of all states having a particle does not have to be 1, especially if the number of particles changes."
   ]
  },
  {
   "cell_type": "markdown",
   "id": "7671e521",
   "metadata": {},
   "source": [
    "The ZZ Energy is conserved in this QCA. By comparing the energy before and after we can determine if an error occurred that did not conserve ZZ energy and not include those states in the calculations.\n",
    "$$\n",
    "O=\\sum_0^7 Z_jZ_{j+1}+Z_0Z_8\n",
    "$$"
   ]
  },
  {
   "cell_type": "code",
   "execution_count": 7,
   "id": "361a71b9",
   "metadata": {},
   "outputs": [
    {
     "name": "stdout",
     "output_type": "stream",
     "text": [
      "Post-Selection: Valid States after Measurement\n",
      "Valid States:  100.0 %\n",
      "Valid States:  100.0 %\n",
      "Valid States:  56.00000000000001 %\n",
      "Valid States:  100.0 %\n",
      "Valid States:  12.7 %\n",
      "Valid States:  100.0 %\n",
      "Valid States:  100.0 %\n",
      "Valid States:  39.800000000000004 %\n",
      "Valid States:  13.200000000000001 %\n",
      "Valid States:  16.0 %\n"
     ]
    },
    {
     "data": {
      "text/plain": [
       "Text(0, 0.5, 'Qubit')"
      ]
     },
     "execution_count": 7,
     "metadata": {},
     "output_type": "execute_result"
    },
    {
     "data": {
      "image/png": "[encoded data removed]",
      "text/plain": [
       "<Figure size 1080x1080 with 3 Axes>"
      ]
     },
     "metadata": {
      "needs_background": "light"
     },
     "output_type": "display_data"
    }
   ],
   "source": [
    "#cde) Evolution Comparison\n",
    "counts = 1000\n",
    "L = 9\n",
    "initial_state = \"000010000\"\n",
    "print(\"Post-Selection: Valid States after Measurement\")\n",
    "pure_matrix = np.zeros([0, L])\n",
    "err_matrix = np.zeros([0, L])\n",
    "post_matrix = np.zeros([0, L])\n",
    "\n",
    "for t in range(1,11):\n",
    "    pure_list = []\n",
    "    err_list = []\n",
    "    pure_list.append(cirq.X(qubits[4]))\n",
    "    err_list.append(cirq.X(qubits[4]))#single particle initialized\n",
    "    for j in range(t):\n",
    "        err_list.append(errorCH(qubits))\n",
    "        pure_list.append(parallelCH(qubits))\n",
    "    pure_list.append(cirq.measure(*qubits, key='z'))\n",
    "    err_list.append(cirq.measure(*qubits, key='z'))\n",
    "    \n",
    "    #c) Pure Evolution\n",
    "    pure_avg = ZExpectation(runCircuit(pure_list, counts))\n",
    "    pure_matrix = np.append(pure_matrix, [pure_avg], axis=0)\n",
    "    \n",
    "    #d)Error Calculations\n",
    "    stateList = runCircuit(err_list, counts)#to ensure they use the same measurements\n",
    "    qerr_avg = ZExpectation(stateList)\n",
    "    err_matrix = np.append(err_matrix, [qerr_avg], axis=0)\n",
    "    \n",
    "    #e) Post Selection Energy Calculations\n",
    "    post_avg = ZPostSelect(stateList, initial_state)\n",
    "    post_matrix = np.append(post_matrix, [post_avg], axis=0)\n",
    "\n",
    "    \n",
    "fig, axes = plt.subplots(1,3,figsize=(15,15))\n",
    "plt.subplot(1,3,1)\n",
    "plt.imshow(np.transpose(pure_matrix), cmap='hot')\n",
    "plt.title(\"Error Free\")\n",
    "plt.xlabel(\"Time\")\n",
    "plt.ylabel(\"Qubit\")\n",
    "\n",
    "plt.subplot(1,3,2)\n",
    "plt.imshow(np.transpose(err_matrix), cmap='hot')\n",
    "plt.title(\"Pauli Errors\")\n",
    "plt.xlabel(\"Time\")\n",
    "plt.ylabel(\"Qubit\")\n",
    "\n",
    "plt.subplot(1,3,3)\n",
    "plt.imshow(np.transpose(post_matrix), cmap='hot')\n",
    "plt.title(\"Post-Selection\")\n",
    "plt.xlabel(\"Time\")\n",
    "plt.ylabel(\"Qubit\")"
   ]
  },
  {
   "cell_type": "markdown",
   "id": "938797cf",
   "metadata": {},
   "source": [
    "The results are much better with post-selection. Post-Selection doesn't account for when multiple errors happen that bring you back to the initial Z energy. It also doesn't catch Z errors that happen after the last set of CZ gates. Using post-selection, we can get an idea of the error rate. It seems like the error rate doesn't monotonically increase."
   ]
  },
  {
   "cell_type": "code",
   "execution_count": null,
   "id": "4d69b9a0",
   "metadata": {},
   "outputs": [],
   "source": []
  }
 ],
 "metadata": {
  "kernelspec": {
   "display_name": "Python 3",
   "language": "python",
   "name": "python3"
  },
  "language_info": {
   "codemirror_mode": {
    "name": "ipython",
    "version": 3
   },
   "file_extension": ".py",
   "mimetype": "text/x-python",
   "name": "python",
   "nbconvert_exporter": "python",
   "pygments_lexer": "ipython3",
   "version": "3.8.13"
  }
 },
 "nbformat": 4,
 "nbformat_minor": 5
}
